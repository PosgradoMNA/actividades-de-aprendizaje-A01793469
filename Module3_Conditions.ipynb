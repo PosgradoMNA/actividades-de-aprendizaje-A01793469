{
 "cells": [
  {
   "cell_type": "code",
   "execution_count": 1,
   "id": "a1187c8c",
   "metadata": {},
   "outputs": [
    {
     "name": "stdout",
     "output_type": "stream",
     "text": [
      "This album is Amazing!\n"
     ]
    }
   ],
   "source": [
    "back_in_black_rating = 8.5\n",
    "rating = back_in_black_rating\n",
    "if rating > 8:\n",
    "    print(\"This album is Amazing!\")"
   ]
  },
  {
   "cell_type": "code",
   "execution_count": 3,
   "id": "d345c0a3",
   "metadata": {},
   "outputs": [
    {
     "name": "stdout",
     "output_type": "stream",
     "text": [
      "This album is ok\n"
     ]
    }
   ],
   "source": [
    "back_in_black_rating = 7.5\n",
    "rating = back_in_black_rating\n",
    "if rating > 8:\n",
    "    print(\"This album is Amazing!\")\n",
    "else:\n",
    "    print(\"This album is ok\")"
   ]
  },
  {
   "cell_type": "code",
   "execution_count": 6,
   "id": "970ac4f7",
   "metadata": {},
   "outputs": [
    {
     "name": "stdout",
     "output_type": "stream",
     "text": [
      "1991\n"
     ]
    }
   ],
   "source": [
    "release_year = 1991\n",
    "if release_year < 1980 or release_year == 1991 or release_year == 1993:\n",
    "    print(release_year)"
   ]
  },
  {
   "cell_type": "code",
   "execution_count": null,
   "id": "10566c56",
   "metadata": {},
   "outputs": [],
   "source": []
  }
 ],
 "metadata": {
  "kernelspec": {
   "display_name": "Python 3 (ipykernel)",
   "language": "python",
   "name": "python3"
  },
  "language_info": {
   "codemirror_mode": {
    "name": "ipython",
    "version": 3
   },
   "file_extension": ".py",
   "mimetype": "text/x-python",
   "name": "python",
   "nbconvert_exporter": "python",
   "pygments_lexer": "ipython3",
   "version": "3.9.7"
  }
 },
 "nbformat": 4,
 "nbformat_minor": 5
}
