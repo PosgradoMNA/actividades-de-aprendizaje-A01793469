{
  "nbformat": 4,
  "nbformat_minor": 0,
  "metadata": {
    "colab": {
      "provenance": [],
      "collapsed_sections": [],
      "authorship_tag": "ABX9TyN4jF2Pss3E4fptJ95P+Rf4",
      "include_colab_link": true
    },
    "kernelspec": {
      "name": "python3",
      "display_name": "Python 3"
    },
    "language_info": {
      "name": "python"
    }
  },
  "cells": [
    {
      "cell_type": "markdown",
      "metadata": {
        "id": "view-in-github",
        "colab_type": "text"
      },
      "source": [
        "<a href=\"https://colab.research.google.com/github/PosgradoMNA/actividades-de-aprendizaje-A01793469/blob/main/A01793469-Semana3-Actividad-IBM.ipynb\" target=\"_parent\"><img src=\"https://colab.research.google.com/assets/colab-badge.svg\" alt=\"Open In Colab\"/></a>"
      ]
    },
    {
      "cell_type": "code",
      "execution_count": null,
      "metadata": {
        "colab": {
          "base_uri": "https://localhost:8080/"
        },
        "id": "2AVmkyobHFBU",
        "outputId": "313d299f-844f-4633-dfe9-c60394599d20"
      },
      "outputs": [
        {
          "output_type": "execute_result",
          "data": {
            "text/plain": [
              "array([ 1, -1])"
            ]
          },
          "metadata": {},
          "execution_count": 1
        }
      ],
      "source": [
        "import numpy as np\n",
        "u = np.array([1, 0])\n",
        "v = np.array([0, 1])\n",
        "u - v"
      ]
    },
    {
      "cell_type": "code",
      "source": [
        "z = np.array([2, 4])\n",
        "-2 * z"
      ],
      "metadata": {
        "colab": {
          "base_uri": "https://localhost:8080/"
        },
        "id": "l7Ldvfmkg8pQ",
        "outputId": "be96e747-74c8-4aa6-b26d-a21441082b2d"
      },
      "execution_count": null,
      "outputs": [
        {
          "output_type": "execute_result",
          "data": {
            "text/plain": [
              "array([-4, -8])"
            ]
          },
          "metadata": {},
          "execution_count": 4
        }
      ]
    },
    {
      "cell_type": "code",
      "source": [
        "a = np.array([1, 2, 3, 4, 5])\n",
        "b = np.array([1, 0, 1, 0, 1])\n",
        "a * b"
      ],
      "metadata": {
        "colab": {
          "base_uri": "https://localhost:8080/"
        },
        "id": "wHRdpvIehKG0",
        "outputId": "0ce35b94-3ab9-407a-ad90-1ac4b6bf0252"
      },
      "execution_count": null,
      "outputs": [
        {
          "output_type": "execute_result",
          "data": {
            "text/plain": [
              "array([1, 0, 3, 0, 5])"
            ]
          },
          "metadata": {},
          "execution_count": 5
        }
      ]
    },
    {
      "cell_type": "code",
      "source": [
        "# Import the libraries\n",
        "\n",
        "import time \n",
        "import sys\n",
        "import numpy as np \n",
        "\n",
        "import matplotlib.pyplot as plt\n",
        "%matplotlib inline  \n",
        "\n",
        "def Plotvec2(a,b):\n",
        "    ax = plt.axes()# to generate the full window axes\n",
        "    ax.arrow(0, 0, *a, head_width=0.05, color ='r', head_length=0.1)#Add an arrow to the  a Axes with arrow head width 0.05, color red and arrow head length 0.1\n",
        "    plt.text(*(a + 0.1), 'a')\n",
        "    ax.arrow(0, 0, *b, head_width=0.05, color ='b', head_length=0.1)#Add an arrow to the  b Axes with arrow head width 0.05, color blue and arrow head length 0.1\n",
        "    plt.text(*(b + 0.1), 'b')\n",
        "    plt.ylim(-2, 2)#set the ylim to bottom(-2), top(2)\n",
        "    plt.xlim(-2, 2)#set the xlim to left(-2), right(2)\n",
        "\n",
        "a = np.array([-1, 1])\n",
        "b = np.array([1, 1])\n",
        "Plotvec2(a, b)\n",
        "dot = np.dot(a, b)\n",
        "print(dot)"
      ],
      "metadata": {
        "colab": {
          "base_uri": "https://localhost:8080/",
          "height": 287
        },
        "id": "Q5hrSL-ehVHG",
        "outputId": "a3f145a0-3d66-4d7b-888a-b4cb93160b9c"
      },
      "execution_count": null,
      "outputs": [
        {
          "output_type": "stream",
          "name": "stdout",
          "text": [
            "0\n"
          ]
        },
        {
          "output_type": "display_data",
          "data": {
            "text/plain": [
              "<Figure size 432x288 with 1 Axes>"
            ],
            "image/png": "[encoded data removed]"
          },
          "metadata": {
            "needs_background": "light"
          }
        }
      ]
    },
    {
      "cell_type": "code",
      "source": [
        "a = np.array([1, 0])\n",
        "b = np.array([0, 1])\n",
        "Plotvec2(a, b)\n",
        "dot = np.dot(a, b)\n",
        "print(dot)"
      ],
      "metadata": {
        "colab": {
          "base_uri": "https://localhost:8080/",
          "height": 287
        },
        "id": "4dSqDt4whhR_",
        "outputId": "c783464a-1559-4cea-a457-83ba914491a9"
      },
      "execution_count": null,
      "outputs": [
        {
          "output_type": "stream",
          "name": "stdout",
          "text": [
            "0\n"
          ]
        },
        {
          "output_type": "display_data",
          "data": {
            "text/plain": [
              "<Figure size 432x288 with 1 Axes>"
            ],
            "image/png": "[encoded data removed]"
          },
          "metadata": {
            "needs_background": "light"
          }
        }
      ]
    },
    {
      "cell_type": "code",
      "source": [
        "a = np.array([1, 1])\n",
        "b = np.array([0, 1])\n",
        "Plotvec2(a, b)\n",
        "dot = np.dot(a, b)\n",
        "print(dot)"
      ],
      "metadata": {
        "colab": {
          "base_uri": "https://localhost:8080/",
          "height": 287
        },
        "id": "9m9fY0Wnia5P",
        "outputId": "5d23743e-2189-410e-d921-5f7a06e98e8c"
      },
      "execution_count": null,
      "outputs": [
        {
          "output_type": "stream",
          "name": "stdout",
          "text": [
            "1\n"
          ]
        },
        {
          "output_type": "display_data",
          "data": {
            "text/plain": [
              "<Figure size 432x288 with 1 Axes>"
            ],
            "image/png": "[encoded data removed]"
          },
          "metadata": {
            "needs_background": "light"
          }
        }
      ]
    },
    {
      "cell_type": "code",
      "source": [
        "arr1 = np.array([1, 2, 3])\n",
        "arr2 = np.array([8, 8, 10])\n",
        "np.add(arr1, arr2)"
      ],
      "metadata": {
        "colab": {
          "base_uri": "https://localhost:8080/"
        },
        "id": "WJ8oQFXXigRc",
        "outputId": "96641d30-7918-4d6f-d389-244df9fa9502"
      },
      "execution_count": null,
      "outputs": [
        {
          "output_type": "execute_result",
          "data": {
            "text/plain": [
              "array([ 9, 10, 13])"
            ]
          },
          "metadata": {},
          "execution_count": 12
        }
      ]
    },
    {
      "cell_type": "code",
      "source": [
        "np.subtract(arr1, arr2)"
      ],
      "metadata": {
        "colab": {
          "base_uri": "https://localhost:8080/"
        },
        "id": "RXZ66JR7i6iI",
        "outputId": "165780a7-af28-4ec8-ad4f-698585478ca4"
      },
      "execution_count": null,
      "outputs": [
        {
          "output_type": "execute_result",
          "data": {
            "text/plain": [
              "array([-7, -6, -7])"
            ]
          },
          "metadata": {},
          "execution_count": 13
        }
      ]
    },
    {
      "cell_type": "code",
      "source": [
        "np.multiply(arr1, arr2)"
      ],
      "metadata": {
        "colab": {
          "base_uri": "https://localhost:8080/"
        },
        "id": "TCQm9_cvi8jD",
        "outputId": "0df6cc54-81ea-488c-ab72-0025d147cc55"
      },
      "execution_count": null,
      "outputs": [
        {
          "output_type": "execute_result",
          "data": {
            "text/plain": [
              "array([ 8, 16, 30])"
            ]
          },
          "metadata": {},
          "execution_count": 14
        }
      ]
    },
    {
      "cell_type": "code",
      "source": [
        "np.divide(arr1, arr2)"
      ],
      "metadata": {
        "colab": {
          "base_uri": "https://localhost:8080/"
        },
        "id": "Ept3jNEUjEjg",
        "outputId": "ad68a5d6-50d2-4174-fd4d-62d6ab4fc7a3"
      },
      "execution_count": null,
      "outputs": [
        {
          "output_type": "execute_result",
          "data": {
            "text/plain": [
              "array([0.125, 0.25 , 0.3  ])"
            ]
          },
          "metadata": {},
          "execution_count": 15
        }
      ]
    },
    {
      "cell_type": "code",
      "source": [
        "np.dot(arr1, arr2)"
      ],
      "metadata": {
        "colab": {
          "base_uri": "https://localhost:8080/"
        },
        "id": "vq2Z5ES9jOiU",
        "outputId": "0b511881-6d3b-41c9-824b-99e86092721f"
      },
      "execution_count": null,
      "outputs": [
        {
          "output_type": "execute_result",
          "data": {
            "text/plain": [
              "54"
            ]
          },
          "metadata": {},
          "execution_count": 16
        }
      ]
    },
    {
      "cell_type": "code",
      "source": [
        "arr1 = np.array([1, 2, 3, 4, 5])\n",
        "arr2 = np.array([6, 7, 8, 9, 10])\n",
        "\n",
        "arr1[0::2]"
      ],
      "metadata": {
        "colab": {
          "base_uri": "https://localhost:8080/"
        },
        "id": "eVvupJqHjWq6",
        "outputId": "2c3893a5-2fb0-4195-b988-40d289dddd67"
      },
      "execution_count": null,
      "outputs": [
        {
          "output_type": "execute_result",
          "data": {
            "text/plain": [
              "array([1, 3, 5])"
            ]
          },
          "metadata": {},
          "execution_count": 21
        }
      ]
    },
    {
      "cell_type": "code",
      "source": [
        "arr2[0::2]"
      ],
      "metadata": {
        "colab": {
          "base_uri": "https://localhost:8080/"
        },
        "id": "4g8qq6JDkHu-",
        "outputId": "4d25ab3a-7924-4568-e327-e30d2a81ec30"
      },
      "execution_count": null,
      "outputs": [
        {
          "output_type": "execute_result",
          "data": {
            "text/plain": [
              "array([ 6,  8, 10])"
            ]
          },
          "metadata": {},
          "execution_count": 22
        }
      ]
    },
    {
      "cell_type": "code",
      "source": [
        "arr1[1::2]"
      ],
      "metadata": {
        "colab": {
          "base_uri": "https://localhost:8080/"
        },
        "id": "ADDA9QflkTdy",
        "outputId": "6f37525c-ba09-4bba-b8ab-5e771f276da0"
      },
      "execution_count": null,
      "outputs": [
        {
          "output_type": "execute_result",
          "data": {
            "text/plain": [
              "array([2, 4])"
            ]
          },
          "metadata": {},
          "execution_count": 23
        }
      ]
    },
    {
      "cell_type": "code",
      "source": [
        "arr2[1::2]"
      ],
      "metadata": {
        "colab": {
          "base_uri": "https://localhost:8080/"
        },
        "id": "zuM9gtO1kVEJ",
        "outputId": "9dc1882c-fa2d-41ae-d0cd-d5d7e7fa759c"
      },
      "execution_count": null,
      "outputs": [
        {
          "output_type": "execute_result",
          "data": {
            "text/plain": [
              "array([7, 9])"
            ]
          },
          "metadata": {},
          "execution_count": 24
        }
      ]
    },
    {
      "cell_type": "code",
      "source": [
        "a = [[1, 2, 3, 4], [5, 6, 7, 8], [9, 10, 11, 12]]\n",
        "A = np.array(a)\n",
        "A"
      ],
      "metadata": {
        "colab": {
          "base_uri": "https://localhost:8080/"
        },
        "id": "Gaap4o1QkWF8",
        "outputId": "bef65697-f782-450a-d47d-f9c69abf1314"
      },
      "execution_count": null,
      "outputs": [
        {
          "output_type": "execute_result",
          "data": {
            "text/plain": [
              "array([[ 1,  2,  3,  4],\n",
              "       [ 5,  6,  7,  8],\n",
              "       [ 9, 10, 11, 12]])"
            ]
          },
          "metadata": {},
          "execution_count": 33
        }
      ]
    },
    {
      "cell_type": "code",
      "source": [
        "A.size"
      ],
      "metadata": {
        "colab": {
          "base_uri": "https://localhost:8080/"
        },
        "id": "dozfPFn5khFX",
        "outputId": "70d0be7a-75d8-448d-f674-7ea1701e0514"
      },
      "execution_count": null,
      "outputs": [
        {
          "output_type": "execute_result",
          "data": {
            "text/plain": [
              "12"
            ]
          },
          "metadata": {},
          "execution_count": 34
        }
      ]
    },
    {
      "cell_type": "code",
      "source": [
        "A[0][0:2]"
      ],
      "metadata": {
        "colab": {
          "base_uri": "https://localhost:8080/"
        },
        "id": "I1PQKCb9kp37",
        "outputId": "fe490602-1891-4cc0-ab84-2180cd2a603b"
      },
      "execution_count": null,
      "outputs": [
        {
          "output_type": "execute_result",
          "data": {
            "text/plain": [
              "array([1, 2])"
            ]
          },
          "metadata": {},
          "execution_count": 35
        }
      ]
    },
    {
      "cell_type": "code",
      "source": [
        "B = np.array([[0, 1], [1, 0], [1, 1], [-1, 0]])\n",
        "np.dot(A, B)"
      ],
      "metadata": {
        "colab": {
          "base_uri": "https://localhost:8080/"
        },
        "id": "GnBX0H-zk0WZ",
        "outputId": "458295ef-edf4-44ce-a7a9-a4755dec19d7"
      },
      "execution_count": null,
      "outputs": [
        {
          "output_type": "execute_result",
          "data": {
            "text/plain": [
              "array([[ 1,  4],\n",
              "       [ 5, 12],\n",
              "       [ 9, 20]])"
            ]
          },
          "metadata": {},
          "execution_count": 36
        }
      ]
    },
    {
      "cell_type": "code",
      "source": [
        "import requests\n",
        "import os \n",
        "from PIL import Image\n",
        "from IPython.display import IFrame\n",
        "url = 'https://www.ibm.com/'\n",
        "r = requests.get(url)\n",
        "r.status_code"
      ],
      "metadata": {
        "colab": {
          "base_uri": "https://localhost:8080/"
        },
        "id": "v1qUg6Sok5f4",
        "outputId": "7c6e55b5-b982-4be2-ce3a-1482b8a6f9c0"
      },
      "execution_count": null,
      "outputs": [
        {
          "output_type": "execute_result",
          "data": {
            "text/plain": [
              "200"
            ]
          },
          "metadata": {},
          "execution_count": 37
        }
      ]
    },
    {
      "cell_type": "code",
      "source": [
        "print(r.request.headers)"
      ],
      "metadata": {
        "colab": {
          "base_uri": "https://localhost:8080/"
        },
        "id": "8Qo7pLOMl11O",
        "outputId": "0bfefe48-d150-4ac6-f3fc-fcd44568ccf5"
      },
      "execution_count": null,
      "outputs": [
        {
          "output_type": "stream",
          "name": "stdout",
          "text": [
            "{'User-Agent': 'python-requests/2.23.0', 'Accept-Encoding': 'gzip, deflate', 'Accept': '*/*', 'Connection': 'keep-alive', 'Cookie': '_abck=6C1567E16A0FFEC45941CCDC3E0B563B~-1~YAAQxhwhF+XML3eDAQAAUFaXdwg/S/ch3Hhw45WnufotuVoczLwcgGundTf8W3GRAnh+QJ58rReUhqwwnqeO5g18cuVKO/CyAycUhXX29tLfjzK7az6GBqqCa8zadFJIPbUUUhG1Sk2j2OqCqtLW9Phq1B4t9auNwqRCMGLNf3XoOrDGEu6wyaf7avWyqHWZsxnoOVrtlMGbEtRVBaaORsIf2W0RYM1smxZFUfbtVxGxeOrcsjctMWKg8iIQFfd8AXxm0PcEjVe0LCGYjUI0GXEZXToGF78loIpPYCvSmOiqNZpvwtfO8koL664+1j7ausNdv9sVfRBL1bt+YqaHobTSX9wH7hcsF1QgEXHd8nRnYqDfVNg=~-1~-1~-1; bm_sz=176F3B69896411ACFC08F4B42FFA8E96~YAAQxhwhF+bML3eDAQAAUFaXdxEQeMxkuQU9ZXrIX76Tkjjw/T2TgjCHD3S8prBqEmkRLrKyv+D+yShybC6BRUGvyvQnsSP8fLsDEo0i5U+HidBhWnsdMXrFZiunb9L7fNjW1GXArYq2YuMRIxAv2eAAJJnDZjdP5AoIhGnL9aIQdZEQ2UC1U1MhNwkiW5qKuyBz8teuOOsVdGsqS1DqXsim3pbhypQ0eXAKZRz2WSrpEjtBSGmVQcEoKWI9Jj9CD8C7OywnBVwAsFO+aJ27/zUzPiMfWc+24qtQTJpsRuc=~3424836~4605495'}\n"
          ]
        }
      ]
    },
    {
      "cell_type": "code",
      "source": [
        "print(\"request body:\", r.request.body)"
      ],
      "metadata": {
        "colab": {
          "base_uri": "https://localhost:8080/"
        },
        "id": "uRVQIw51l35c",
        "outputId": "e40ac7aa-bbc0-4ee8-9b92-2d02676bbb71"
      },
      "execution_count": null,
      "outputs": [
        {
          "output_type": "stream",
          "name": "stdout",
          "text": [
            "request body: None\n"
          ]
        }
      ]
    },
    {
      "cell_type": "code",
      "source": [
        " r.encoding"
      ],
      "metadata": {
        "colab": {
          "base_uri": "https://localhost:8080/",
          "height": 36
        },
        "id": "sjc_Cly-l6s0",
        "outputId": "bbf5accf-401c-46c1-c7ca-12b55d3e18b7"
      },
      "execution_count": null,
      "outputs": [
        {
          "output_type": "execute_result",
          "data": {
            "text/plain": [
              "'ISO-8859-1'"
            ],
            "application/vnd.google.colaboratory.intrinsic+json": {
              "type": "string"
            }
          },
          "metadata": {},
          "execution_count": 40
        }
      ]
    },
    {
      "cell_type": "code",
      "source": [
        "url ='https://cf-courses-data.s3.us.cloud-object-storage.appdomain.cloud/IBMDeveloperSkillsNetwork-PY0101EN-SkillsNetwork/IDSNlogo.png'\n",
        "r = requests.get(url)\n",
        "r"
      ],
      "metadata": {
        "colab": {
          "base_uri": "https://localhost:8080/"
        },
        "id": "DV3VQNZ0l_Tr",
        "outputId": "fb6cc389-ae83-4be8-a751-bd84fa76030a"
      },
      "execution_count": null,
      "outputs": [
        {
          "output_type": "execute_result",
          "data": {
            "text/plain": [
              "<Response [200]>"
            ]
          },
          "metadata": {},
          "execution_count": 45
        }
      ]
    },
    {
      "cell_type": "code",
      "source": [
        "path = os.path.join(os.getcwd(),'image.png')\n",
        "with open(path,'wb') as f:\n",
        "    f.write(r.content)\n",
        "Image.open(path)"
      ],
      "metadata": {
        "colab": {
          "base_uri": "https://localhost:8080/",
          "height": 817
        },
        "id": "Y4N2G6vhmB6I",
        "outputId": "a9c8f6c6-55ca-4e5d-82a3-c500f64b1be6"
      },
      "execution_count": null,
      "outputs": [
        {
          "output_type": "execute_result",
          "data": {
            "text/plain": [
              "<PIL.PngImagePlugin.PngImageFile image mode=P size=800x800 at 0x7F5A12328390>"
            ],
            "image/png": "[encoded data removed]"
          },
          "metadata": {},
          "execution_count": 46
        }
      ]
    },
    {
      "cell_type": "code",
      "source": [
        "url = 'https://cf-courses-data.s3.us.cloud-object-storage.appdomain.cloud/IBMDeveloperSkillsNetwork-PY0101EN-SkillsNetwork/Example1.txt'\n",
        "r = requests.get(url)\n",
        "path = os.path.join(os.getcwd(),'Example1.txt')\n",
        "with open(path,'wb') as f:\n",
        "    f.write(r.content)\n",
        "r.content"
      ],
      "metadata": {
        "colab": {
          "base_uri": "https://localhost:8080/"
        },
        "id": "T7Y8Ev0XmWP7",
        "outputId": "740ac743-741c-432b-ca63-8d26fe2627b0"
      },
      "execution_count": null,
      "outputs": [
        {
          "output_type": "execute_result",
          "data": {
            "text/plain": [
              "b'<?xml version=\"1.0\" encoding=\"UTF-8\" standalone=\"yes\"?><Error><Code>NoSuchKey</Code><Message>The specified key does not exist.</Message><Resource>/cf-courses-data/IBMDeveloperSkillsNetwork-PY0101EN-SkillsNetwork/Example1.txt</Resource><RequestId>412da5df-c20b-48bd-933e-a7f9c369b8cf</RequestId><httpStatusCode>404</httpStatusCode></Error>'"
            ]
          },
          "metadata": {},
          "execution_count": 48
        }
      ]
    },
    {
      "cell_type": "code",
      "source": [
        "payload={\"name\":\"Joseph\",\"ID\":\"123\"}\n",
        "url_post='http://httpbin.org/post'\n",
        "r_post=requests.post(url_post,data=payload)\n",
        "print(\"POST request URL:\",r_post.url )"
      ],
      "metadata": {
        "colab": {
          "base_uri": "https://localhost:8080/"
        },
        "id": "-rxWDEfbnGGi",
        "outputId": "d33d809a-6409-4aa9-c159-09107b602fe6"
      },
      "execution_count": null,
      "outputs": [
        {
          "output_type": "stream",
          "name": "stdout",
          "text": [
            "POST request URL: http://httpbin.org/post\n",
            "GET request URL: https://cf-courses-data.s3.us.cloud-object-storage.appdomain.cloud/IBMDeveloperSkillsNetwork-PY0101EN-SkillsNetwork/Example1.txt\n"
          ]
        }
      ]
    },
    {
      "cell_type": "code",
      "source": [
        "print(\"POST request body:\",r_post.request.body)"
      ],
      "metadata": {
        "colab": {
          "base_uri": "https://localhost:8080/"
        },
        "id": "sXTUJSfHofFA",
        "outputId": "94e95a53-6273-4feb-86ca-20baf058c369"
      },
      "execution_count": null,
      "outputs": [
        {
          "output_type": "stream",
          "name": "stdout",
          "text": [
            "POST request body: name=Joseph&ID=123\n",
            "GET request body: None\n"
          ]
        }
      ]
    },
    {
      "cell_type": "code",
      "source": [
        "r_post.json()['form']"
      ],
      "metadata": {
        "colab": {
          "base_uri": "https://localhost:8080/"
        },
        "id": "Zfe6FdTvojK4",
        "outputId": "0f562140-1c87-4281-f8f1-63755330b88d"
      },
      "execution_count": null,
      "outputs": [
        {
          "output_type": "execute_result",
          "data": {
            "text/plain": [
              "{'ID': '123', 'name': 'Joseph'}"
            ]
          },
          "metadata": {},
          "execution_count": 51
        }
      ]
    },
    {
      "cell_type": "code",
      "source": [
        "!pip install randomuser"
      ],
      "metadata": {
        "colab": {
          "base_uri": "https://localhost:8080/"
        },
        "id": "5ilJzNcRopY3",
        "outputId": "9fc0d194-f4ce-42d9-b845-15a6e51d9c29"
      },
      "execution_count": null,
      "outputs": [
        {
          "output_type": "stream",
          "name": "stdout",
          "text": [
            "Looking in indexes: https://pypi.org/simple, https://us-python.pkg.dev/colab-wheels/public/simple/\n",
            "Collecting randomuser\n",
            "  Downloading randomuser-1.6.tar.gz (5.0 kB)\n",
            "Building wheels for collected packages: randomuser\n",
            "  Building wheel for randomuser (setup.py) ... \u001b[?25l\u001b[?25hdone\n",
            "  Created wheel for randomuser: filename=randomuser-1.6-py3-none-any.whl size=5084 sha256=2be247461d8177e382e20920011ba391fd756c602ff94a070b113d8f680a2ec3\n",
            "  Stored in directory: /root/.cache/pip/wheels/21/10/7b/c13bc3e24a3c1000a34554802ad8aa0ff27df56366998a0473\n",
            "Successfully built randomuser\n",
            "Installing collected packages: randomuser\n",
            "Successfully installed randomuser-1.6\n"
          ]
        }
      ]
    },
    {
      "cell_type": "code",
      "source": [
        "from randomuser import RandomUser\n",
        "import pandas as pd\n",
        "r = RandomUser()\n",
        "r"
      ],
      "metadata": {
        "colab": {
          "base_uri": "https://localhost:8080/"
        },
        "id": "4WhCfpxao5hJ",
        "outputId": "f1f55606-f863-4fd3-be07-0aeb8990052c"
      },
      "execution_count": null,
      "outputs": [
        {
          "output_type": "execute_result",
          "data": {
            "text/plain": [
              "<randomuser.RandomUser at 0x7f5a11471550>"
            ]
          },
          "metadata": {},
          "execution_count": 54
        }
      ]
    },
    {
      "cell_type": "code",
      "source": [
        "some_list = r.generate_users(10)\n",
        "some_list"
      ],
      "metadata": {
        "colab": {
          "base_uri": "https://localhost:8080/"
        },
        "id": "UEIn-6Guo-Ho",
        "outputId": "4a5c377e-bb96-46be-b804-ec8c7ad299eb"
      },
      "execution_count": null,
      "outputs": [
        {
          "output_type": "execute_result",
          "data": {
            "text/plain": [
              "[<randomuser.RandomUser at 0x7f5a11424410>,\n",
              " <randomuser.RandomUser at 0x7f5a11424450>,\n",
              " <randomuser.RandomUser at 0x7f5a11424490>,\n",
              " <randomuser.RandomUser at 0x7f5a114244d0>,\n",
              " <randomuser.RandomUser at 0x7f5a11424510>,\n",
              " <randomuser.RandomUser at 0x7f5a11424590>,\n",
              " <randomuser.RandomUser at 0x7f5a114245d0>,\n",
              " <randomuser.RandomUser at 0x7f5a11424610>,\n",
              " <randomuser.RandomUser at 0x7f5a11424650>,\n",
              " <randomuser.RandomUser at 0x7f5a11424550>]"
            ]
          },
          "metadata": {},
          "execution_count": 55
        }
      ]
    },
    {
      "cell_type": "code",
      "source": [
        "name = r.get_full_name()\n",
        "name"
      ],
      "metadata": {
        "colab": {
          "base_uri": "https://localhost:8080/",
          "height": 36
        },
        "id": "bz9DG_SxpC_z",
        "outputId": "01593dd9-6551-46cc-ab28-e83c4dcd4670"
      },
      "execution_count": null,
      "outputs": [
        {
          "output_type": "execute_result",
          "data": {
            "text/plain": [
              "'Ben Heggedal'"
            ],
            "application/vnd.google.colaboratory.intrinsic+json": {
              "type": "string"
            }
          },
          "metadata": {},
          "execution_count": 59
        }
      ]
    },
    {
      "cell_type": "code",
      "source": [
        "for user in some_list:\n",
        "    print (user.get_full_name(),\" \",user.get_email())"
      ],
      "metadata": {
        "colab": {
          "base_uri": "https://localhost:8080/"
        },
        "id": "9ris4QMFpE4d",
        "outputId": "bb19bb9c-37b4-47cb-9e85-bfd27a783a4a"
      },
      "execution_count": null,
      "outputs": [
        {
          "output_type": "stream",
          "name": "stdout",
          "text": [
            "Nura Wisse   nura.wisse@example.com\n",
            "Bela Höfling   bela.hofling@example.com\n",
            "Anna Barbier   anna.barbier@example.com\n",
            "Matias Tuomi   matias.tuomi@example.com\n",
            "پرهام صدر   prhm.sdr@example.com\n",
            "Marsha Rice   marsha.rice@example.com\n",
            "Tellef Schulz   tellef.schulz@example.com\n",
            "Minttu Lampinen   minttu.lampinen@example.com\n",
            "Phoebe Ryan   phoebe.ryan@example.com\n",
            "Edward Van de Veen   edward.vandeveen@example.com\n"
          ]
        }
      ]
    },
    {
      "cell_type": "code",
      "source": [
        "for user in some_list:\n",
        "    print(user.get_picture())"
      ],
      "metadata": {
        "colab": {
          "base_uri": "https://localhost:8080/"
        },
        "id": "ORoGbd1RpM7N",
        "outputId": "2f1f025f-b0db-451b-94aa-376433cc7138"
      },
      "execution_count": null,
      "outputs": [
        {
          "output_type": "stream",
          "name": "stdout",
          "text": [
            "https://randomuser.me/api/portraits/women/71.jpg\n",
            "https://randomuser.me/api/portraits/men/70.jpg\n",
            "https://randomuser.me/api/portraits/women/58.jpg\n",
            "https://randomuser.me/api/portraits/men/24.jpg\n",
            "https://randomuser.me/api/portraits/men/65.jpg\n",
            "https://randomuser.me/api/portraits/women/19.jpg\n",
            "https://randomuser.me/api/portraits/men/97.jpg\n",
            "https://randomuser.me/api/portraits/women/17.jpg\n",
            "https://randomuser.me/api/portraits/women/14.jpg\n",
            "https://randomuser.me/api/portraits/men/56.jpg\n"
          ]
        }
      ]
    },
    {
      "cell_type": "code",
      "source": [
        "def get_users():\n",
        "    users =[]\n",
        "    for user in RandomUser.generate_users(10):\n",
        "        users.append(\n",
        "            {\"Name\":user.get_full_name(),\n",
        "             \"Gender\":user.get_gender(),\n",
        "             \"City\":user.get_city(),\n",
        "             \"State\":user.get_state(),\n",
        "             \"Email\":user.get_email(),\n",
        "             \"DOB\":user.get_dob(),\n",
        "             \"Picture\":user.get_picture()})\n",
        "    return pd.DataFrame(users)\n",
        "\n",
        "get_users()"
      ],
      "metadata": {
        "colab": {
          "base_uri": "https://localhost:8080/",
          "height": 363
        },
        "id": "_bqODyPQpXhl",
        "outputId": "cb70c46c-926a-4a89-b0ad-8d7e49ff3dc9"
      },
      "execution_count": null,
      "outputs": [
        {
          "output_type": "execute_result",
          "data": {
            "text/plain": [
              "               Name  Gender       City           State  \\\n",
              "0       Kaya Eliçin    male        Muş        Erzincan   \n",
              "1      Rodrigo Cruz    male    Vitoria       Cantabria   \n",
              "2  Guntram Grunwald    male   Cuxhaven  Sachsen-Anhalt   \n",
              "3        Andrey Ilg    male    Neu-Ulm     Brandenburg   \n",
              "4    Matthias Meyer    male       Oron          Schwyz   \n",
              "5    Hannah Roberts  female   Hastings     Hawke'S Bay   \n",
              "6     Diyar Jagroep    male    Kapelle       Flevoland   \n",
              "7         بیتا گلشن  female        یزد           کرمان   \n",
              "8      علیرضا موسوی    male  خمینی‌شهر          لرستان   \n",
              "9  Alison Goedemans  female  Kruisland    Zuid-Holland   \n",
              "\n",
              "                          Email                       DOB  \\\n",
              "0       kaya.elicin@example.com  1985-02-14T01:04:04.967Z   \n",
              "1      rodrigo.cruz@example.com  1986-01-14T17:14:22.750Z   \n",
              "2  guntram.grunwald@example.com  1992-12-04T10:18:28.481Z   \n",
              "3        andrey.ilg@example.com  1956-04-26T15:26:46.849Z   \n",
              "4    matthias.meyer@example.com  1995-10-24T14:50:53.273Z   \n",
              "5    hannah.roberts@example.com  1960-02-04T07:06:43.583Z   \n",
              "6     diyar.jagroep@example.com  1961-07-06T10:17:08.671Z   \n",
              "7         byt.glshn@example.com  1953-05-19T04:40:48.527Z   \n",
              "8      aalyrd.mwswy@example.com  1963-02-23T15:45:01.804Z   \n",
              "9  alison.goedemans@example.com  1955-04-23T02:20:33.217Z   \n",
              "\n",
              "                                            Picture  \n",
              "0    https://randomuser.me/api/portraits/men/32.jpg  \n",
              "1    https://randomuser.me/api/portraits/men/23.jpg  \n",
              "2    https://randomuser.me/api/portraits/men/98.jpg  \n",
              "3    https://randomuser.me/api/portraits/men/33.jpg  \n",
              "4    https://randomuser.me/api/portraits/men/72.jpg  \n",
              "5  https://randomuser.me/api/portraits/women/15.jpg  \n",
              "6    https://randomuser.me/api/portraits/men/85.jpg  \n",
              "7  https://randomuser.me/api/portraits/women/15.jpg  \n",
              "8    https://randomuser.me/api/portraits/men/35.jpg  \n",
              "9   https://randomuser.me/api/portraits/women/5.jpg  "
            ],
            "text/html": [
              "\n",
              "  <div id=\"df-6c7777a4-2238-4436-a0e2-bc311d47bc25\">\n",
              "    <div class=\"colab-df-container\">\n",
              "      <div>\n",
              "<style scoped>\n",
              "    .dataframe tbody tr th:only-of-type {\n",
              "        vertical-align: middle;\n",
              "    }\n",
              "\n",
              "    .dataframe tbody tr th {\n",
              "        vertical-align: top;\n",
              "    }\n",
              "\n",
              "    .dataframe thead th {\n",
              "        text-align: right;\n",
              "    }\n",
              "</style>\n",
              "<table border=\"1\" class=\"dataframe\">\n",
              "  <thead>\n",
              "    <tr style=\"text-align: right;\">\n",
              "      <th></th>\n",
              "      <th>Name</th>\n",
              "      <th>Gender</th>\n",
              "      <th>City</th>\n",
              "      <th>State</th>\n",
              "      <th>Email</th>\n",
              "      <th>DOB</th>\n",
              "      <th>Picture</th>\n",
              "    </tr>\n",
              "  </thead>\n",
              "  <tbody>\n",
              "    <tr>\n",
              "      <th>0</th>\n",
              "      <td>Kaya Eliçin</td>\n",
              "      <td>male</td>\n",
              "      <td>Muş</td>\n",
              "      <td>Erzincan</td>\n",
              "      <td>kaya.elicin@example.com</td>\n",
              "      <td>1985-02-14T01:04:04.967Z</td>\n",
              "      <td>https://randomuser.me/api/portraits/men/32.jpg</td>\n",
              "    </tr>\n",
              "    <tr>\n",
              "      <th>1</th>\n",
              "      <td>Rodrigo Cruz</td>\n",
              "      <td>male</td>\n",
              "      <td>Vitoria</td>\n",
              "      <td>Cantabria</td>\n",
              "      <td>rodrigo.cruz@example.com</td>\n",
              "      <td>1986-01-14T17:14:22.750Z</td>\n",
              "      <td>https://randomuser.me/api/portraits/men/23.jpg</td>\n",
              "    </tr>\n",
              "    <tr>\n",
              "      <th>2</th>\n",
              "      <td>Guntram Grunwald</td>\n",
              "      <td>male</td>\n",
              "      <td>Cuxhaven</td>\n",
              "      <td>Sachsen-Anhalt</td>\n",
              "      <td>guntram.grunwald@example.com</td>\n",
              "      <td>1992-12-04T10:18:28.481Z</td>\n",
              "      <td>https://randomuser.me/api/portraits/men/98.jpg</td>\n",
              "    </tr>\n",
              "    <tr>\n",
              "      <th>3</th>\n",
              "      <td>Andrey Ilg</td>\n",
              "      <td>male</td>\n",
              "      <td>Neu-Ulm</td>\n",
              "      <td>Brandenburg</td>\n",
              "      <td>andrey.ilg@example.com</td>\n",
              "      <td>1956-04-26T15:26:46.849Z</td>\n",
              "      <td>https://randomuser.me/api/portraits/men/33.jpg</td>\n",
              "    </tr>\n",
              "    <tr>\n",
              "      <th>4</th>\n",
              "      <td>Matthias Meyer</td>\n",
              "      <td>male</td>\n",
              "      <td>Oron</td>\n",
              "      <td>Schwyz</td>\n",
              "      <td>matthias.meyer@example.com</td>\n",
              "      <td>1995-10-24T14:50:53.273Z</td>\n",
              "      <td>https://randomuser.me/api/portraits/men/72.jpg</td>\n",
              "    </tr>\n",
              "    <tr>\n",
              "      <th>5</th>\n",
              "      <td>Hannah Roberts</td>\n",
              "      <td>female</td>\n",
              "      <td>Hastings</td>\n",
              "      <td>Hawke'S Bay</td>\n",
              "      <td>hannah.roberts@example.com</td>\n",
              "      <td>1960-02-04T07:06:43.583Z</td>\n",
              "      <td>https://randomuser.me/api/portraits/women/15.jpg</td>\n",
              "    </tr>\n",
              "    <tr>\n",
              "      <th>6</th>\n",
              "      <td>Diyar Jagroep</td>\n",
              "      <td>male</td>\n",
              "      <td>Kapelle</td>\n",
              "      <td>Flevoland</td>\n",
              "      <td>diyar.jagroep@example.com</td>\n",
              "      <td>1961-07-06T10:17:08.671Z</td>\n",
              "      <td>https://randomuser.me/api/portraits/men/85.jpg</td>\n",
              "    </tr>\n",
              "    <tr>\n",
              "      <th>7</th>\n",
              "      <td>بیتا گلشن</td>\n",
              "      <td>female</td>\n",
              "      <td>یزد</td>\n",
              "      <td>کرمان</td>\n",
              "      <td>byt.glshn@example.com</td>\n",
              "      <td>1953-05-19T04:40:48.527Z</td>\n",
              "      <td>https://randomuser.me/api/portraits/women/15.jpg</td>\n",
              "    </tr>\n",
              "    <tr>\n",
              "      <th>8</th>\n",
              "      <td>علیرضا موسوی</td>\n",
              "      <td>male</td>\n",
              "      <td>خمینی‌شهر</td>\n",
              "      <td>لرستان</td>\n",
              "      <td>aalyrd.mwswy@example.com</td>\n",
              "      <td>1963-02-23T15:45:01.804Z</td>\n",
              "      <td>https://randomuser.me/api/portraits/men/35.jpg</td>\n",
              "    </tr>\n",
              "    <tr>\n",
              "      <th>9</th>\n",
              "      <td>Alison Goedemans</td>\n",
              "      <td>female</td>\n",
              "      <td>Kruisland</td>\n",
              "      <td>Zuid-Holland</td>\n",
              "      <td>alison.goedemans@example.com</td>\n",
              "      <td>1955-04-23T02:20:33.217Z</td>\n",
              "      <td>https://randomuser.me/api/portraits/women/5.jpg</td>\n",
              "    </tr>\n",
              "  </tbody>\n",
              "</table>\n",
              "</div>\n",
              "      <button class=\"colab-df-convert\" onclick=\"convertToInteractive('df-6c7777a4-2238-4436-a0e2-bc311d47bc25')\"\n",
              "              title=\"Convert this dataframe to an interactive table.\"\n",
              "              style=\"display:none;\">\n",
              "        \n",
              "  <svg xmlns=\"http://www.w3.org/2000/svg\" height=\"24px\"viewBox=\"0 0 24 24\"\n",
              "       width=\"24px\">\n",
              "    <path d=\"M0 0h24v24H0V0z\" fill=\"none\"/>\n",
              "    <path d=\"M18.56 5.44l.94 2.06.94-2.06 2.06-.94-2.06-.94-.94-2.06-.94 2.06-2.06.94zm-11 1L8.5 8.5l.94-2.06 2.06-.94-2.06-.94L8.5 2.5l-.94 2.06-2.06.94zm10 10l.94 2.06.94-2.06 2.06-.94-2.06-.94-.94-2.06-.94 2.06-2.06.94z\"/><path d=\"M17.41 7.96l-1.37-1.37c-.4-.4-.92-.59-1.43-.59-.52 0-1.04.2-1.43.59L10.3 9.45l-7.72 7.72c-.78.78-.78 2.05 0 2.83L4 21.41c.39.39.9.59 1.41.59.51 0 1.02-.2 1.41-.59l7.78-7.78 2.81-2.81c.8-.78.8-2.07 0-2.86zM5.41 20L4 18.59l7.72-7.72 1.47 1.35L5.41 20z\"/>\n",
              "  </svg>\n",
              "      </button>\n",
              "      \n",
              "  <style>\n",
              "    .colab-df-container {\n",
              "      display:flex;\n",
              "      flex-wrap:wrap;\n",
              "      gap: 12px;\n",
              "    }\n",
              "\n",
              "    .colab-df-convert {\n",
              "      background-color: #E8F0FE;\n",
              "      border: none;\n",
              "      border-radius: 50%;\n",
              "      cursor: pointer;\n",
              "      display: none;\n",
              "      fill: #1967D2;\n",
              "      height: 32px;\n",
              "      padding: 0 0 0 0;\n",
              "      width: 32px;\n",
              "    }\n",
              "\n",
              "    .colab-df-convert:hover {\n",
              "      background-color: #E2EBFA;\n",
              "      box-shadow: 0px 1px 2px rgba(60, 64, 67, 0.3), 0px 1px 3px 1px rgba(60, 64, 67, 0.15);\n",
              "      fill: #174EA6;\n",
              "    }\n",
              "\n",
              "    [theme=dark] .colab-df-convert {\n",
              "      background-color: #3B4455;\n",
              "      fill: #D2E3FC;\n",
              "    }\n",
              "\n",
              "    [theme=dark] .colab-df-convert:hover {\n",
              "      background-color: #434B5C;\n",
              "      box-shadow: 0px 1px 3px 1px rgba(0, 0, 0, 0.15);\n",
              "      filter: drop-shadow(0px 1px 2px rgba(0, 0, 0, 0.3));\n",
              "      fill: #FFFFFF;\n",
              "    }\n",
              "  </style>\n",
              "\n",
              "      <script>\n",
              "        const buttonEl =\n",
              "          document.querySelector('#df-6c7777a4-2238-4436-a0e2-bc311d47bc25 button.colab-df-convert');\n",
              "        buttonEl.style.display =\n",
              "          google.colab.kernel.accessAllowed ? 'block' : 'none';\n",
              "\n",
              "        async function convertToInteractive(key) {\n",
              "          const element = document.querySelector('#df-6c7777a4-2238-4436-a0e2-bc311d47bc25');\n",
              "          const dataTable =\n",
              "            await google.colab.kernel.invokeFunction('convertToInteractive',\n",
              "                                                     [key], {});\n",
              "          if (!dataTable) return;\n",
              "\n",
              "          const docLinkHtml = 'Like what you see? Visit the ' +\n",
              "            '<a target=\"_blank\" href=https://colab.research.google.com/notebooks/data_table.ipynb>data table notebook</a>'\n",
              "            + ' to learn more about interactive tables.';\n",
              "          element.innerHTML = '';\n",
              "          dataTable['output_type'] = 'display_data';\n",
              "          await google.colab.output.renderOutput(dataTable, element);\n",
              "          const docLink = document.createElement('div');\n",
              "          docLink.innerHTML = docLinkHtml;\n",
              "          element.appendChild(docLink);\n",
              "        }\n",
              "      </script>\n",
              "    </div>\n",
              "  </div>\n",
              "  "
            ]
          },
          "metadata": {},
          "execution_count": 62
        }
      ]
    },
    {
      "cell_type": "code",
      "source": [
        "df1 = get_users()\n",
        "df1"
      ],
      "metadata": {
        "colab": {
          "base_uri": "https://localhost:8080/",
          "height": 363
        },
        "id": "m9vBGHX5pqzV",
        "outputId": "8393c863-877d-4b13-aeb7-bf5798eca79e"
      },
      "execution_count": null,
      "outputs": [
        {
          "output_type": "execute_result",
          "data": {
            "text/plain": [
              "                    Name  Gender             City                State  \\\n",
              "0            Ege Samancı  female          Giresun                Muğla   \n",
              "1            ستایش مرادی  female         نجف‌آباد               اصفهان   \n",
              "2  Jimmie Van der Pluijm    male          Exmorra            Friesland   \n",
              "3          Vincent Green    male         Hamilton           Wellington   \n",
              "4         Oğuzhan Günday    male          Sakarya               Manisa   \n",
              "5          Dagmar Dufour  female  Erlinsbach (Ag)            Neuchâtel   \n",
              "6            Paul Moreno    male        Ironville              Arizona   \n",
              "7          Mathea Ensrud  female        Østhusvik            Trøndelag   \n",
              "8             نيما یاسمی    male           ارومیه  کهگیلویه و بویراحمد   \n",
              "9        Francis Schwalm    male          Ohrdruf          Brandenburg   \n",
              "\n",
              "                             Email                       DOB  \\\n",
              "0          ege.samanci@example.com  1957-01-18T21:46:21.515Z   \n",
              "1           stysh.mrdy@example.com  1953-07-30T17:23:53.009Z   \n",
              "2  jimmie.vanderpluijm@example.com  1971-06-01T09:43:03.508Z   \n",
              "3        vincent.green@example.com  1968-03-12T17:47:49.674Z   \n",
              "4       oguzhan.gunday@example.com  1953-10-22T21:41:01.603Z   \n",
              "5        dagmar.dufour@example.com  1960-04-05T02:36:30.791Z   \n",
              "6          paul.moreno@example.com  1981-04-12T21:48:49.213Z   \n",
              "7        mathea.ensrud@example.com  1976-11-11T07:00:13.522Z   \n",
              "8             nym.ysmy@example.com  1986-03-14T06:19:45.879Z   \n",
              "9      francis.schwalm@example.com  1980-03-06T07:07:23.966Z   \n",
              "\n",
              "                                            Picture  \n",
              "0   https://randomuser.me/api/portraits/women/7.jpg  \n",
              "1  https://randomuser.me/api/portraits/women/52.jpg  \n",
              "2    https://randomuser.me/api/portraits/men/62.jpg  \n",
              "3     https://randomuser.me/api/portraits/men/2.jpg  \n",
              "4    https://randomuser.me/api/portraits/men/58.jpg  \n",
              "5  https://randomuser.me/api/portraits/women/11.jpg  \n",
              "6    https://randomuser.me/api/portraits/men/46.jpg  \n",
              "7  https://randomuser.me/api/portraits/women/51.jpg  \n",
              "8    https://randomuser.me/api/portraits/men/52.jpg  \n",
              "9     https://randomuser.me/api/portraits/men/0.jpg  "
            ],
            "text/html": [
              "\n",
              "  <div id=\"df-58f38acb-aeae-457d-9e0f-39078b2b0c29\">\n",
              "    <div class=\"colab-df-container\">\n",
              "      <div>\n",
              "<style scoped>\n",
              "    .dataframe tbody tr th:only-of-type {\n",
              "        vertical-align: middle;\n",
              "    }\n",
              "\n",
              "    .dataframe tbody tr th {\n",
              "        vertical-align: top;\n",
              "    }\n",
              "\n",
              "    .dataframe thead th {\n",
              "        text-align: right;\n",
              "    }\n",
              "</style>\n",
              "<table border=\"1\" class=\"dataframe\">\n",
              "  <thead>\n",
              "    <tr style=\"text-align: right;\">\n",
              "      <th></th>\n",
              "      <th>Name</th>\n",
              "      <th>Gender</th>\n",
              "      <th>City</th>\n",
              "      <th>State</th>\n",
              "      <th>Email</th>\n",
              "      <th>DOB</th>\n",
              "      <th>Picture</th>\n",
              "    </tr>\n",
              "  </thead>\n",
              "  <tbody>\n",
              "    <tr>\n",
              "      <th>0</th>\n",
              "      <td>Ege Samancı</td>\n",
              "      <td>female</td>\n",
              "      <td>Giresun</td>\n",
              "      <td>Muğla</td>\n",
              "      <td>ege.samanci@example.com</td>\n",
              "      <td>1957-01-18T21:46:21.515Z</td>\n",
              "      <td>https://randomuser.me/api/portraits/women/7.jpg</td>\n",
              "    </tr>\n",
              "    <tr>\n",
              "      <th>1</th>\n",
              "      <td>ستایش مرادی</td>\n",
              "      <td>female</td>\n",
              "      <td>نجف‌آباد</td>\n",
              "      <td>اصفهان</td>\n",
              "      <td>stysh.mrdy@example.com</td>\n",
              "      <td>1953-07-30T17:23:53.009Z</td>\n",
              "      <td>https://randomuser.me/api/portraits/women/52.jpg</td>\n",
              "    </tr>\n",
              "    <tr>\n",
              "      <th>2</th>\n",
              "      <td>Jimmie Van der Pluijm</td>\n",
              "      <td>male</td>\n",
              "      <td>Exmorra</td>\n",
              "      <td>Friesland</td>\n",
              "      <td>jimmie.vanderpluijm@example.com</td>\n",
              "      <td>1971-06-01T09:43:03.508Z</td>\n",
              "      <td>https://randomuser.me/api/portraits/men/62.jpg</td>\n",
              "    </tr>\n",
              "    <tr>\n",
              "      <th>3</th>\n",
              "      <td>Vincent Green</td>\n",
              "      <td>male</td>\n",
              "      <td>Hamilton</td>\n",
              "      <td>Wellington</td>\n",
              "      <td>vincent.green@example.com</td>\n",
              "      <td>1968-03-12T17:47:49.674Z</td>\n",
              "      <td>https://randomuser.me/api/portraits/men/2.jpg</td>\n",
              "    </tr>\n",
              "    <tr>\n",
              "      <th>4</th>\n",
              "      <td>Oğuzhan Günday</td>\n",
              "      <td>male</td>\n",
              "      <td>Sakarya</td>\n",
              "      <td>Manisa</td>\n",
              "      <td>oguzhan.gunday@example.com</td>\n",
              "      <td>1953-10-22T21:41:01.603Z</td>\n",
              "      <td>https://randomuser.me/api/portraits/men/58.jpg</td>\n",
              "    </tr>\n",
              "    <tr>\n",
              "      <th>5</th>\n",
              "      <td>Dagmar Dufour</td>\n",
              "      <td>female</td>\n",
              "      <td>Erlinsbach (Ag)</td>\n",
              "      <td>Neuchâtel</td>\n",
              "      <td>dagmar.dufour@example.com</td>\n",
              "      <td>1960-04-05T02:36:30.791Z</td>\n",
              "      <td>https://randomuser.me/api/portraits/women/11.jpg</td>\n",
              "    </tr>\n",
              "    <tr>\n",
              "      <th>6</th>\n",
              "      <td>Paul Moreno</td>\n",
              "      <td>male</td>\n",
              "      <td>Ironville</td>\n",
              "      <td>Arizona</td>\n",
              "      <td>paul.moreno@example.com</td>\n",
              "      <td>1981-04-12T21:48:49.213Z</td>\n",
              "      <td>https://randomuser.me/api/portraits/men/46.jpg</td>\n",
              "    </tr>\n",
              "    <tr>\n",
              "      <th>7</th>\n",
              "      <td>Mathea Ensrud</td>\n",
              "      <td>female</td>\n",
              "      <td>Østhusvik</td>\n",
              "      <td>Trøndelag</td>\n",
              "      <td>mathea.ensrud@example.com</td>\n",
              "      <td>1976-11-11T07:00:13.522Z</td>\n",
              "      <td>https://randomuser.me/api/portraits/women/51.jpg</td>\n",
              "    </tr>\n",
              "    <tr>\n",
              "      <th>8</th>\n",
              "      <td>نيما یاسمی</td>\n",
              "      <td>male</td>\n",
              "      <td>ارومیه</td>\n",
              "      <td>کهگیلویه و بویراحمد</td>\n",
              "      <td>nym.ysmy@example.com</td>\n",
              "      <td>1986-03-14T06:19:45.879Z</td>\n",
              "      <td>https://randomuser.me/api/portraits/men/52.jpg</td>\n",
              "    </tr>\n",
              "    <tr>\n",
              "      <th>9</th>\n",
              "      <td>Francis Schwalm</td>\n",
              "      <td>male</td>\n",
              "      <td>Ohrdruf</td>\n",
              "      <td>Brandenburg</td>\n",
              "      <td>francis.schwalm@example.com</td>\n",
              "      <td>1980-03-06T07:07:23.966Z</td>\n",
              "      <td>https://randomuser.me/api/portraits/men/0.jpg</td>\n",
              "    </tr>\n",
              "  </tbody>\n",
              "</table>\n",
              "</div>\n",
              "      <button class=\"colab-df-convert\" onclick=\"convertToInteractive('df-58f38acb-aeae-457d-9e0f-39078b2b0c29')\"\n",
              "              title=\"Convert this dataframe to an interactive table.\"\n",
              "              style=\"display:none;\">\n",
              "        \n",
              "  <svg xmlns=\"http://www.w3.org/2000/svg\" height=\"24px\"viewBox=\"0 0 24 24\"\n",
              "       width=\"24px\">\n",
              "    <path d=\"M0 0h24v24H0V0z\" fill=\"none\"/>\n",
              "    <path d=\"M18.56 5.44l.94 2.06.94-2.06 2.06-.94-2.06-.94-.94-2.06-.94 2.06-2.06.94zm-11 1L8.5 8.5l.94-2.06 2.06-.94-2.06-.94L8.5 2.5l-.94 2.06-2.06.94zm10 10l.94 2.06.94-2.06 2.06-.94-2.06-.94-.94-2.06-.94 2.06-2.06.94z\"/><path d=\"M17.41 7.96l-1.37-1.37c-.4-.4-.92-.59-1.43-.59-.52 0-1.04.2-1.43.59L10.3 9.45l-7.72 7.72c-.78.78-.78 2.05 0 2.83L4 21.41c.39.39.9.59 1.41.59.51 0 1.02-.2 1.41-.59l7.78-7.78 2.81-2.81c.8-.78.8-2.07 0-2.86zM5.41 20L4 18.59l7.72-7.72 1.47 1.35L5.41 20z\"/>\n",
              "  </svg>\n",
              "      </button>\n",
              "      \n",
              "  <style>\n",
              "    .colab-df-container {\n",
              "      display:flex;\n",
              "      flex-wrap:wrap;\n",
              "      gap: 12px;\n",
              "    }\n",
              "\n",
              "    .colab-df-convert {\n",
              "      background-color: #E8F0FE;\n",
              "      border: none;\n",
              "      border-radius: 50%;\n",
              "      cursor: pointer;\n",
              "      display: none;\n",
              "      fill: #1967D2;\n",
              "      height: 32px;\n",
              "      padding: 0 0 0 0;\n",
              "      width: 32px;\n",
              "    }\n",
              "\n",
              "    .colab-df-convert:hover {\n",
              "      background-color: #E2EBFA;\n",
              "      box-shadow: 0px 1px 2px rgba(60, 64, 67, 0.3), 0px 1px 3px 1px rgba(60, 64, 67, 0.15);\n",
              "      fill: #174EA6;\n",
              "    }\n",
              "\n",
              "    [theme=dark] .colab-df-convert {\n",
              "      background-color: #3B4455;\n",
              "      fill: #D2E3FC;\n",
              "    }\n",
              "\n",
              "    [theme=dark] .colab-df-convert:hover {\n",
              "      background-color: #434B5C;\n",
              "      box-shadow: 0px 1px 3px 1px rgba(0, 0, 0, 0.15);\n",
              "      filter: drop-shadow(0px 1px 2px rgba(0, 0, 0, 0.3));\n",
              "      fill: #FFFFFF;\n",
              "    }\n",
              "  </style>\n",
              "\n",
              "      <script>\n",
              "        const buttonEl =\n",
              "          document.querySelector('#df-58f38acb-aeae-457d-9e0f-39078b2b0c29 button.colab-df-convert');\n",
              "        buttonEl.style.display =\n",
              "          google.colab.kernel.accessAllowed ? 'block' : 'none';\n",
              "\n",
              "        async function convertToInteractive(key) {\n",
              "          const element = document.querySelector('#df-58f38acb-aeae-457d-9e0f-39078b2b0c29');\n",
              "          const dataTable =\n",
              "            await google.colab.kernel.invokeFunction('convertToInteractive',\n",
              "                                                     [key], {});\n",
              "          if (!dataTable) return;\n",
              "\n",
              "          const docLinkHtml = 'Like what you see? Visit the ' +\n",
              "            '<a target=\"_blank\" href=https://colab.research.google.com/notebooks/data_table.ipynb>data table notebook</a>'\n",
              "            + ' to learn more about interactive tables.';\n",
              "          element.innerHTML = '';\n",
              "          dataTable['output_type'] = 'display_data';\n",
              "          await google.colab.output.renderOutput(dataTable, element);\n",
              "          const docLink = document.createElement('div');\n",
              "          docLink.innerHTML = docLinkHtml;\n",
              "          element.appendChild(docLink);\n",
              "        }\n",
              "      </script>\n",
              "    </div>\n",
              "  </div>\n",
              "  "
            ]
          },
          "metadata": {},
          "execution_count": 65
        }
      ]
    },
    {
      "cell_type": "code",
      "source": [
        "import requests\n",
        "import json\n",
        "\n",
        "data = requests.get(\"https://www.fruityvice.com/api/fruit/all\")\n",
        "results = json.loads(data.text)\n",
        "pd.DataFrame(results)"
      ],
      "metadata": {
        "colab": {
          "base_uri": "https://localhost:8080/",
          "height": 1000
        },
        "id": "Ls0AlubHpw2T",
        "outputId": "4f31d67a-5272-4388-ae55-caa0e3efb161"
      },
      "execution_count": null,
      "outputs": [
        {
          "output_type": "execute_result",
          "data": {
            "text/plain": [
              "         genus          name  id           family             order  \\\n",
              "0        Malus         Apple   6         Rosaceae           Rosales   \n",
              "1       Prunus       Apricot  35         Rosaceae           Rosales   \n",
              "2         Musa        Banana   1         Musaceae      Zingiberales   \n",
              "3        Rubus    Blackberry  64         Rosaceae           Rosales   \n",
              "4     Fragaria     Blueberry  33         Rosaceae           Rosales   \n",
              "5       Prunus        Cherry   9         Rosaceae              None   \n",
              "6        Durio        Durian  60        Malvaceae          Malvales   \n",
              "7        Ficus           Fig  68         Moraceae           Rosales   \n",
              "8        Ribes    Gooseberry  69  Grossulariaceae      Saxifragales   \n",
              "9        Vitis        Grapes  47         Vitaceae           Vitales   \n",
              "10       Malus    GreenApple  72         Rosaceae           Rosales   \n",
              "11     Psidium         Guava  37        Myrtaceae          Myrtales   \n",
              "12     Apteryx          Kiwi  66    Actinidiaceae  Struthioniformes   \n",
              "13      Citrus         Lemon  26         Rutaceae        Sapindales   \n",
              "14      Citrus          Lime  44         Rutaceae        Sapindales   \n",
              "15   Vaccinium   Lingonberry  65        Ericaceae          Ericales   \n",
              "16      Litchi        Lychee  67      Sapindaceae        Sapindales   \n",
              "17   Mangifera         Mango  27    Anacardiaceae        Sapindales   \n",
              "18     Cucumis         Melon  41    Cucurbitaceae     Cucurbitaceae   \n",
              "19      Citrus        Orange   2         Rutaceae        Sapindales   \n",
              "20      Carica        Papaya  42       Caricaceae         Caricacea   \n",
              "21  Passiflora  Passionfruit  70   Passifloraceae      Malpighiales   \n",
              "22       Pyrus          Pear   4         Rosaceae           Rosales   \n",
              "23   Diospyros     Persimmon  52        Ebenaceae           Rosales   \n",
              "24      Ananas     Pineapple  10     Bromeliaceae            Poales   \n",
              "25      Prunus          Plum  71         Rosaceae           Rosales   \n",
              "26       Rubus     Raspberry  23         Rosaceae           Rosales   \n",
              "27    Fragaria    Strawberry   3         Rosaceae           Rosales   \n",
              "28     Solanum        Tomato   5       Solanaceae         Solanales   \n",
              "29    Spondias          Umbu  73    Anacardiaceae                 0   \n",
              "30   Citrullus    Watermelon  25    Cucurbitaceae      Cucurbitales   \n",
              "\n",
              "                                           nutritions  \n",
              "0   {'carbohydrates': 11.4, 'protein': 0.3, 'fat':...  \n",
              "1   {'carbohydrates': 3.9, 'protein': 0.5, 'fat': ...  \n",
              "2   {'carbohydrates': 22, 'protein': 1, 'fat': 0.2...  \n",
              "3   {'carbohydrates': 9, 'protein': 1.3, 'fat': 0....  \n",
              "4   {'carbohydrates': 5.5, 'protein': 0, 'fat': 0....  \n",
              "5   {'carbohydrates': 12, 'protein': 1, 'fat': 0.3...  \n",
              "6   {'carbohydrates': 27.1, 'protein': 1.5, 'fat':...  \n",
              "7   {'carbohydrates': 19, 'protein': 0.8, 'fat': 0...  \n",
              "8   {'carbohydrates': 10, 'protein': 0.9, 'fat': 0...  \n",
              "9   {'carbohydrates': 18.1, 'protein': 0.72, 'fat'...  \n",
              "10  {'carbohydrates': 3.1, 'protein': 0.4, 'fat': ...  \n",
              "11  {'carbohydrates': 14, 'protein': 2.6, 'fat': 1...  \n",
              "12  {'carbohydrates': 15, 'protein': 1.1, 'fat': 0...  \n",
              "13  {'carbohydrates': 9, 'protein': 1.1, 'fat': 0....  \n",
              "14  {'carbohydrates': 8.4, 'protein': 0.3, 'fat': ...  \n",
              "15  {'carbohydrates': 11.3, 'protein': 0.75, 'fat'...  \n",
              "16  {'carbohydrates': 17, 'protein': 0.8, 'fat': 0...  \n",
              "17  {'carbohydrates': 15, 'protein': 0.82, 'fat': ...  \n",
              "18  {'carbohydrates': 8, 'protein': 0, 'fat': 0, '...  \n",
              "19  {'carbohydrates': 8.3, 'protein': 1, 'fat': 0....  \n",
              "20  {'carbohydrates': 11, 'protein': 0, 'fat': 0.4...  \n",
              "21  {'carbohydrates': 22.4, 'protein': 2.2, 'fat':...  \n",
              "22  {'carbohydrates': 15, 'protein': 0.4, 'fat': 0...  \n",
              "23  {'carbohydrates': 18, 'protein': 0, 'fat': 0, ...  \n",
              "24  {'carbohydrates': 13.12, 'protein': 0.54, 'fat...  \n",
              "25  {'carbohydrates': 11.4, 'protein': 0.7, 'fat':...  \n",
              "26  {'carbohydrates': 12, 'protein': 1.2, 'fat': 0...  \n",
              "27  {'carbohydrates': 5.5, 'protein': 0.8, 'fat': ...  \n",
              "28  {'carbohydrates': 3.9, 'protein': 0.9, 'fat': ...  \n",
              "29  {'carbohydrates': 0, 'protein': 0, 'fat': 0, '...  \n",
              "30  {'carbohydrates': 8, 'protein': 0.6, 'fat': 0....  "
            ],
            "text/html": [
              "\n",
              "  <div id=\"df-df943666-b750-4fd9-9ec0-44d334f52bf2\">\n",
              "    <div class=\"colab-df-container\">\n",
              "      <div>\n",
              "<style scoped>\n",
              "    .dataframe tbody tr th:only-of-type {\n",
              "        vertical-align: middle;\n",
              "    }\n",
              "\n",
              "    .dataframe tbody tr th {\n",
              "        vertical-align: top;\n",
              "    }\n",
              "\n",
              "    .dataframe thead th {\n",
              "        text-align: right;\n",
              "    }\n",
              "</style>\n",
              "<table border=\"1\" class=\"dataframe\">\n",
              "  <thead>\n",
              "    <tr style=\"text-align: right;\">\n",
              "      <th></th>\n",
              "      <th>genus</th>\n",
              "      <th>name</th>\n",
              "      <th>id</th>\n",
              "      <th>family</th>\n",
              "      <th>order</th>\n",
              "      <th>nutritions</th>\n",
              "    </tr>\n",
              "  </thead>\n",
              "  <tbody>\n",
              "    <tr>\n",
              "      <th>0</th>\n",
              "      <td>Malus</td>\n",
              "      <td>Apple</td>\n",
              "      <td>6</td>\n",
              "      <td>Rosaceae</td>\n",
              "      <td>Rosales</td>\n",
              "      <td>{'carbohydrates': 11.4, 'protein': 0.3, 'fat':...</td>\n",
              "    </tr>\n",
              "    <tr>\n",
              "      <th>1</th>\n",
              "      <td>Prunus</td>\n",
              "      <td>Apricot</td>\n",
              "      <td>35</td>\n",
              "      <td>Rosaceae</td>\n",
              "      <td>Rosales</td>\n",
              "      <td>{'carbohydrates': 3.9, 'protein': 0.5, 'fat': ...</td>\n",
              "    </tr>\n",
              "    <tr>\n",
              "      <th>2</th>\n",
              "      <td>Musa</td>\n",
              "      <td>Banana</td>\n",
              "      <td>1</td>\n",
              "      <td>Musaceae</td>\n",
              "      <td>Zingiberales</td>\n",
              "      <td>{'carbohydrates': 22, 'protein': 1, 'fat': 0.2...</td>\n",
              "    </tr>\n",
              "    <tr>\n",
              "      <th>3</th>\n",
              "      <td>Rubus</td>\n",
              "      <td>Blackberry</td>\n",
              "      <td>64</td>\n",
              "      <td>Rosaceae</td>\n",
              "      <td>Rosales</td>\n",
              "      <td>{'carbohydrates': 9, 'protein': 1.3, 'fat': 0....</td>\n",
              "    </tr>\n",
              "    <tr>\n",
              "      <th>4</th>\n",
              "      <td>Fragaria</td>\n",
              "      <td>Blueberry</td>\n",
              "      <td>33</td>\n",
              "      <td>Rosaceae</td>\n",
              "      <td>Rosales</td>\n",
              "      <td>{'carbohydrates': 5.5, 'protein': 0, 'fat': 0....</td>\n",
              "    </tr>\n",
              "    <tr>\n",
              "      <th>5</th>\n",
              "      <td>Prunus</td>\n",
              "      <td>Cherry</td>\n",
              "      <td>9</td>\n",
              "      <td>Rosaceae</td>\n",
              "      <td>None</td>\n",
              "      <td>{'carbohydrates': 12, 'protein': 1, 'fat': 0.3...</td>\n",
              "    </tr>\n",
              "    <tr>\n",
              "      <th>6</th>\n",
              "      <td>Durio</td>\n",
              "      <td>Durian</td>\n",
              "      <td>60</td>\n",
              "      <td>Malvaceae</td>\n",
              "      <td>Malvales</td>\n",
              "      <td>{'carbohydrates': 27.1, 'protein': 1.5, 'fat':...</td>\n",
              "    </tr>\n",
              "    <tr>\n",
              "      <th>7</th>\n",
              "      <td>Ficus</td>\n",
              "      <td>Fig</td>\n",
              "      <td>68</td>\n",
              "      <td>Moraceae</td>\n",
              "      <td>Rosales</td>\n",
              "      <td>{'carbohydrates': 19, 'protein': 0.8, 'fat': 0...</td>\n",
              "    </tr>\n",
              "    <tr>\n",
              "      <th>8</th>\n",
              "      <td>Ribes</td>\n",
              "      <td>Gooseberry</td>\n",
              "      <td>69</td>\n",
              "      <td>Grossulariaceae</td>\n",
              "      <td>Saxifragales</td>\n",
              "      <td>{'carbohydrates': 10, 'protein': 0.9, 'fat': 0...</td>\n",
              "    </tr>\n",
              "    <tr>\n",
              "      <th>9</th>\n",
              "      <td>Vitis</td>\n",
              "      <td>Grapes</td>\n",
              "      <td>47</td>\n",
              "      <td>Vitaceae</td>\n",
              "      <td>Vitales</td>\n",
              "      <td>{'carbohydrates': 18.1, 'protein': 0.72, 'fat'...</td>\n",
              "    </tr>\n",
              "    <tr>\n",
              "      <th>10</th>\n",
              "      <td>Malus</td>\n",
              "      <td>GreenApple</td>\n",
              "      <td>72</td>\n",
              "      <td>Rosaceae</td>\n",
              "      <td>Rosales</td>\n",
              "      <td>{'carbohydrates': 3.1, 'protein': 0.4, 'fat': ...</td>\n",
              "    </tr>\n",
              "    <tr>\n",
              "      <th>11</th>\n",
              "      <td>Psidium</td>\n",
              "      <td>Guava</td>\n",
              "      <td>37</td>\n",
              "      <td>Myrtaceae</td>\n",
              "      <td>Myrtales</td>\n",
              "      <td>{'carbohydrates': 14, 'protein': 2.6, 'fat': 1...</td>\n",
              "    </tr>\n",
              "    <tr>\n",
              "      <th>12</th>\n",
              "      <td>Apteryx</td>\n",
              "      <td>Kiwi</td>\n",
              "      <td>66</td>\n",
              "      <td>Actinidiaceae</td>\n",
              "      <td>Struthioniformes</td>\n",
              "      <td>{'carbohydrates': 15, 'protein': 1.1, 'fat': 0...</td>\n",
              "    </tr>\n",
              "    <tr>\n",
              "      <th>13</th>\n",
              "      <td>Citrus</td>\n",
              "      <td>Lemon</td>\n",
              "      <td>26</td>\n",
              "      <td>Rutaceae</td>\n",
              "      <td>Sapindales</td>\n",
              "      <td>{'carbohydrates': 9, 'protein': 1.1, 'fat': 0....</td>\n",
              "    </tr>\n",
              "    <tr>\n",
              "      <th>14</th>\n",
              "      <td>Citrus</td>\n",
              "      <td>Lime</td>\n",
              "      <td>44</td>\n",
              "      <td>Rutaceae</td>\n",
              "      <td>Sapindales</td>\n",
              "      <td>{'carbohydrates': 8.4, 'protein': 0.3, 'fat': ...</td>\n",
              "    </tr>\n",
              "    <tr>\n",
              "      <th>15</th>\n",
              "      <td>Vaccinium</td>\n",
              "      <td>Lingonberry</td>\n",
              "      <td>65</td>\n",
              "      <td>Ericaceae</td>\n",
              "      <td>Ericales</td>\n",
              "      <td>{'carbohydrates': 11.3, 'protein': 0.75, 'fat'...</td>\n",
              "    </tr>\n",
              "    <tr>\n",
              "      <th>16</th>\n",
              "      <td>Litchi</td>\n",
              "      <td>Lychee</td>\n",
              "      <td>67</td>\n",
              "      <td>Sapindaceae</td>\n",
              "      <td>Sapindales</td>\n",
              "      <td>{'carbohydrates': 17, 'protein': 0.8, 'fat': 0...</td>\n",
              "    </tr>\n",
              "    <tr>\n",
              "      <th>17</th>\n",
              "      <td>Mangifera</td>\n",
              "      <td>Mango</td>\n",
              "      <td>27</td>\n",
              "      <td>Anacardiaceae</td>\n",
              "      <td>Sapindales</td>\n",
              "      <td>{'carbohydrates': 15, 'protein': 0.82, 'fat': ...</td>\n",
              "    </tr>\n",
              "    <tr>\n",
              "      <th>18</th>\n",
              "      <td>Cucumis</td>\n",
              "      <td>Melon</td>\n",
              "      <td>41</td>\n",
              "      <td>Cucurbitaceae</td>\n",
              "      <td>Cucurbitaceae</td>\n",
              "      <td>{'carbohydrates': 8, 'protein': 0, 'fat': 0, '...</td>\n",
              "    </tr>\n",
              "    <tr>\n",
              "      <th>19</th>\n",
              "      <td>Citrus</td>\n",
              "      <td>Orange</td>\n",
              "      <td>2</td>\n",
              "      <td>Rutaceae</td>\n",
              "      <td>Sapindales</td>\n",
              "      <td>{'carbohydrates': 8.3, 'protein': 1, 'fat': 0....</td>\n",
              "    </tr>\n",
              "    <tr>\n",
              "      <th>20</th>\n",
              "      <td>Carica</td>\n",
              "      <td>Papaya</td>\n",
              "      <td>42</td>\n",
              "      <td>Caricaceae</td>\n",
              "      <td>Caricacea</td>\n",
              "      <td>{'carbohydrates': 11, 'protein': 0, 'fat': 0.4...</td>\n",
              "    </tr>\n",
              "    <tr>\n",
              "      <th>21</th>\n",
              "      <td>Passiflora</td>\n",
              "      <td>Passionfruit</td>\n",
              "      <td>70</td>\n",
              "      <td>Passifloraceae</td>\n",
              "      <td>Malpighiales</td>\n",
              "      <td>{'carbohydrates': 22.4, 'protein': 2.2, 'fat':...</td>\n",
              "    </tr>\n",
              "    <tr>\n",
              "      <th>22</th>\n",
              "      <td>Pyrus</td>\n",
              "      <td>Pear</td>\n",
              "      <td>4</td>\n",
              "      <td>Rosaceae</td>\n",
              "      <td>Rosales</td>\n",
              "      <td>{'carbohydrates': 15, 'protein': 0.4, 'fat': 0...</td>\n",
              "    </tr>\n",
              "    <tr>\n",
              "      <th>23</th>\n",
              "      <td>Diospyros</td>\n",
              "      <td>Persimmon</td>\n",
              "      <td>52</td>\n",
              "      <td>Ebenaceae</td>\n",
              "      <td>Rosales</td>\n",
              "      <td>{'carbohydrates': 18, 'protein': 0, 'fat': 0, ...</td>\n",
              "    </tr>\n",
              "    <tr>\n",
              "      <th>24</th>\n",
              "      <td>Ananas</td>\n",
              "      <td>Pineapple</td>\n",
              "      <td>10</td>\n",
              "      <td>Bromeliaceae</td>\n",
              "      <td>Poales</td>\n",
              "      <td>{'carbohydrates': 13.12, 'protein': 0.54, 'fat...</td>\n",
              "    </tr>\n",
              "    <tr>\n",
              "      <th>25</th>\n",
              "      <td>Prunus</td>\n",
              "      <td>Plum</td>\n",
              "      <td>71</td>\n",
              "      <td>Rosaceae</td>\n",
              "      <td>Rosales</td>\n",
              "      <td>{'carbohydrates': 11.4, 'protein': 0.7, 'fat':...</td>\n",
              "    </tr>\n",
              "    <tr>\n",
              "      <th>26</th>\n",
              "      <td>Rubus</td>\n",
              "      <td>Raspberry</td>\n",
              "      <td>23</td>\n",
              "      <td>Rosaceae</td>\n",
              "      <td>Rosales</td>\n",
              "      <td>{'carbohydrates': 12, 'protein': 1.2, 'fat': 0...</td>\n",
              "    </tr>\n",
              "    <tr>\n",
              "      <th>27</th>\n",
              "      <td>Fragaria</td>\n",
              "      <td>Strawberry</td>\n",
              "      <td>3</td>\n",
              "      <td>Rosaceae</td>\n",
              "      <td>Rosales</td>\n",
              "      <td>{'carbohydrates': 5.5, 'protein': 0.8, 'fat': ...</td>\n",
              "    </tr>\n",
              "    <tr>\n",
              "      <th>28</th>\n",
              "      <td>Solanum</td>\n",
              "      <td>Tomato</td>\n",
              "      <td>5</td>\n",
              "      <td>Solanaceae</td>\n",
              "      <td>Solanales</td>\n",
              "      <td>{'carbohydrates': 3.9, 'protein': 0.9, 'fat': ...</td>\n",
              "    </tr>\n",
              "    <tr>\n",
              "      <th>29</th>\n",
              "      <td>Spondias</td>\n",
              "      <td>Umbu</td>\n",
              "      <td>73</td>\n",
              "      <td>Anacardiaceae</td>\n",
              "      <td>0</td>\n",
              "      <td>{'carbohydrates': 0, 'protein': 0, 'fat': 0, '...</td>\n",
              "    </tr>\n",
              "    <tr>\n",
              "      <th>30</th>\n",
              "      <td>Citrullus</td>\n",
              "      <td>Watermelon</td>\n",
              "      <td>25</td>\n",
              "      <td>Cucurbitaceae</td>\n",
              "      <td>Cucurbitales</td>\n",
              "      <td>{'carbohydrates': 8, 'protein': 0.6, 'fat': 0....</td>\n",
              "    </tr>\n",
              "  </tbody>\n",
              "</table>\n",
              "</div>\n",
              "      <button class=\"colab-df-convert\" onclick=\"convertToInteractive('df-df943666-b750-4fd9-9ec0-44d334f52bf2')\"\n",
              "              title=\"Convert this dataframe to an interactive table.\"\n",
              "              style=\"display:none;\">\n",
              "        \n",
              "  <svg xmlns=\"http://www.w3.org/2000/svg\" height=\"24px\"viewBox=\"0 0 24 24\"\n",
              "       width=\"24px\">\n",
              "    <path d=\"M0 0h24v24H0V0z\" fill=\"none\"/>\n",
              "    <path d=\"M18.56 5.44l.94 2.06.94-2.06 2.06-.94-2.06-.94-.94-2.06-.94 2.06-2.06.94zm-11 1L8.5 8.5l.94-2.06 2.06-.94-2.06-.94L8.5 2.5l-.94 2.06-2.06.94zm10 10l.94 2.06.94-2.06 2.06-.94-2.06-.94-.94-2.06-.94 2.06-2.06.94z\"/><path d=\"M17.41 7.96l-1.37-1.37c-.4-.4-.92-.59-1.43-.59-.52 0-1.04.2-1.43.59L10.3 9.45l-7.72 7.72c-.78.78-.78 2.05 0 2.83L4 21.41c.39.39.9.59 1.41.59.51 0 1.02-.2 1.41-.59l7.78-7.78 2.81-2.81c.8-.78.8-2.07 0-2.86zM5.41 20L4 18.59l7.72-7.72 1.47 1.35L5.41 20z\"/>\n",
              "  </svg>\n",
              "      </button>\n",
              "      \n",
              "  <style>\n",
              "    .colab-df-container {\n",
              "      display:flex;\n",
              "      flex-wrap:wrap;\n",
              "      gap: 12px;\n",
              "    }\n",
              "\n",
              "    .colab-df-convert {\n",
              "      background-color: #E8F0FE;\n",
              "      border: none;\n",
              "      border-radius: 50%;\n",
              "      cursor: pointer;\n",
              "      display: none;\n",
              "      fill: #1967D2;\n",
              "      height: 32px;\n",
              "      padding: 0 0 0 0;\n",
              "      width: 32px;\n",
              "    }\n",
              "\n",
              "    .colab-df-convert:hover {\n",
              "      background-color: #E2EBFA;\n",
              "      box-shadow: 0px 1px 2px rgba(60, 64, 67, 0.3), 0px 1px 3px 1px rgba(60, 64, 67, 0.15);\n",
              "      fill: #174EA6;\n",
              "    }\n",
              "\n",
              "    [theme=dark] .colab-df-convert {\n",
              "      background-color: #3B4455;\n",
              "      fill: #D2E3FC;\n",
              "    }\n",
              "\n",
              "    [theme=dark] .colab-df-convert:hover {\n",
              "      background-color: #434B5C;\n",
              "      box-shadow: 0px 1px 3px 1px rgba(0, 0, 0, 0.15);\n",
              "      filter: drop-shadow(0px 1px 2px rgba(0, 0, 0, 0.3));\n",
              "      fill: #FFFFFF;\n",
              "    }\n",
              "  </style>\n",
              "\n",
              "      <script>\n",
              "        const buttonEl =\n",
              "          document.querySelector('#df-df943666-b750-4fd9-9ec0-44d334f52bf2 button.colab-df-convert');\n",
              "        buttonEl.style.display =\n",
              "          google.colab.kernel.accessAllowed ? 'block' : 'none';\n",
              "\n",
              "        async function convertToInteractive(key) {\n",
              "          const element = document.querySelector('#df-df943666-b750-4fd9-9ec0-44d334f52bf2');\n",
              "          const dataTable =\n",
              "            await google.colab.kernel.invokeFunction('convertToInteractive',\n",
              "                                                     [key], {});\n",
              "          if (!dataTable) return;\n",
              "\n",
              "          const docLinkHtml = 'Like what you see? Visit the ' +\n",
              "            '<a target=\"_blank\" href=https://colab.research.google.com/notebooks/data_table.ipynb>data table notebook</a>'\n",
              "            + ' to learn more about interactive tables.';\n",
              "          element.innerHTML = '';\n",
              "          dataTable['output_type'] = 'display_data';\n",
              "          await google.colab.output.renderOutput(dataTable, element);\n",
              "          const docLink = document.createElement('div');\n",
              "          docLink.innerHTML = docLinkHtml;\n",
              "          element.appendChild(docLink);\n",
              "        }\n",
              "      </script>\n",
              "    </div>\n",
              "  </div>\n",
              "  "
            ]
          },
          "metadata": {},
          "execution_count": 66
        }
      ]
    },
    {
      "cell_type": "code",
      "source": [
        "df2 = pd.json_normalize(results)\n",
        "df2"
      ],
      "metadata": {
        "colab": {
          "base_uri": "https://localhost:8080/",
          "height": 1000
        },
        "id": "bM9hDqXeqCRD",
        "outputId": "bff039c5-685f-4662-c0fb-3de4103e44f3"
      },
      "execution_count": null,
      "outputs": [
        {
          "output_type": "execute_result",
          "data": {
            "text/plain": [
              "         genus          name  id           family             order  \\\n",
              "0        Malus         Apple   6         Rosaceae           Rosales   \n",
              "1       Prunus       Apricot  35         Rosaceae           Rosales   \n",
              "2         Musa        Banana   1         Musaceae      Zingiberales   \n",
              "3        Rubus    Blackberry  64         Rosaceae           Rosales   \n",
              "4     Fragaria     Blueberry  33         Rosaceae           Rosales   \n",
              "5       Prunus        Cherry   9         Rosaceae              None   \n",
              "6        Durio        Durian  60        Malvaceae          Malvales   \n",
              "7        Ficus           Fig  68         Moraceae           Rosales   \n",
              "8        Ribes    Gooseberry  69  Grossulariaceae      Saxifragales   \n",
              "9        Vitis        Grapes  47         Vitaceae           Vitales   \n",
              "10       Malus    GreenApple  72         Rosaceae           Rosales   \n",
              "11     Psidium         Guava  37        Myrtaceae          Myrtales   \n",
              "12     Apteryx          Kiwi  66    Actinidiaceae  Struthioniformes   \n",
              "13      Citrus         Lemon  26         Rutaceae        Sapindales   \n",
              "14      Citrus          Lime  44         Rutaceae        Sapindales   \n",
              "15   Vaccinium   Lingonberry  65        Ericaceae          Ericales   \n",
              "16      Litchi        Lychee  67      Sapindaceae        Sapindales   \n",
              "17   Mangifera         Mango  27    Anacardiaceae        Sapindales   \n",
              "18     Cucumis         Melon  41    Cucurbitaceae     Cucurbitaceae   \n",
              "19      Citrus        Orange   2         Rutaceae        Sapindales   \n",
              "20      Carica        Papaya  42       Caricaceae         Caricacea   \n",
              "21  Passiflora  Passionfruit  70   Passifloraceae      Malpighiales   \n",
              "22       Pyrus          Pear   4         Rosaceae           Rosales   \n",
              "23   Diospyros     Persimmon  52        Ebenaceae           Rosales   \n",
              "24      Ananas     Pineapple  10     Bromeliaceae            Poales   \n",
              "25      Prunus          Plum  71         Rosaceae           Rosales   \n",
              "26       Rubus     Raspberry  23         Rosaceae           Rosales   \n",
              "27    Fragaria    Strawberry   3         Rosaceae           Rosales   \n",
              "28     Solanum        Tomato   5       Solanaceae         Solanales   \n",
              "29    Spondias          Umbu  73    Anacardiaceae                 0   \n",
              "30   Citrullus    Watermelon  25    Cucurbitaceae      Cucurbitales   \n",
              "\n",
              "    nutritions.carbohydrates  nutritions.protein  nutritions.fat  \\\n",
              "0                      11.40                0.30            0.40   \n",
              "1                       3.90                0.50            0.10   \n",
              "2                      22.00                1.00            0.20   \n",
              "3                       9.00                1.30            0.40   \n",
              "4                       5.50                0.00            0.40   \n",
              "5                      12.00                1.00            0.30   \n",
              "6                      27.10                1.50            5.30   \n",
              "7                      19.00                0.80            0.30   \n",
              "8                      10.00                0.90            0.60   \n",
              "9                      18.10                0.72            0.16   \n",
              "10                      3.10                0.40            0.10   \n",
              "11                     14.00                2.60            1.00   \n",
              "12                     15.00                1.10            0.50   \n",
              "13                      9.00                1.10            0.30   \n",
              "14                      8.40                0.30            0.10   \n",
              "15                     11.30                0.75            0.34   \n",
              "16                     17.00                0.80            0.44   \n",
              "17                     15.00                0.82            0.38   \n",
              "18                      8.00                0.00            0.00   \n",
              "19                      8.30                1.00            0.20   \n",
              "20                     11.00                0.00            0.40   \n",
              "21                     22.40                2.20            0.70   \n",
              "22                     15.00                0.40            0.10   \n",
              "23                     18.00                0.00            0.00   \n",
              "24                     13.12                0.54            0.12   \n",
              "25                     11.40                0.70            0.28   \n",
              "26                     12.00                1.20            0.70   \n",
              "27                      5.50                0.80            0.40   \n",
              "28                      3.90                0.90            0.20   \n",
              "29                      0.00                0.00            0.00   \n",
              "30                      8.00                0.60            0.20   \n",
              "\n",
              "    nutritions.calories  nutritions.sugar  \n",
              "0                    52             10.30  \n",
              "1                    15              3.20  \n",
              "2                    96             17.20  \n",
              "3                    40              4.50  \n",
              "4                    29              5.40  \n",
              "5                    50              8.00  \n",
              "6                   147              6.75  \n",
              "7                    74             16.00  \n",
              "8                    44              0.00  \n",
              "9                    69             15.48  \n",
              "10                   21              6.40  \n",
              "11                   68              9.00  \n",
              "12                   61              9.00  \n",
              "13                   29              2.50  \n",
              "14                   25              1.70  \n",
              "15                   50              5.74  \n",
              "16                   66             15.00  \n",
              "17                   60             13.70  \n",
              "18                   34              8.00  \n",
              "19                   43              8.20  \n",
              "20                   43              1.00  \n",
              "21                   97             11.20  \n",
              "22                   57             10.00  \n",
              "23                   81             18.00  \n",
              "24                   50              9.85  \n",
              "25                   46              9.92  \n",
              "26                   53              4.40  \n",
              "27                   29              5.40  \n",
              "28                   74              2.60  \n",
              "29                    0              0.00  \n",
              "30                   30              6.00  "
            ],
            "text/html": [
              "\n",
              "  <div id=\"df-0d5dfeb3-b9d7-45b5-98c5-a24e9af7edde\">\n",
              "    <div class=\"colab-df-container\">\n",
              "      <div>\n",
              "<style scoped>\n",
              "    .dataframe tbody tr th:only-of-type {\n",
              "        vertical-align: middle;\n",
              "    }\n",
              "\n",
              "    .dataframe tbody tr th {\n",
              "        vertical-align: top;\n",
              "    }\n",
              "\n",
              "    .dataframe thead th {\n",
              "        text-align: right;\n",
              "    }\n",
              "</style>\n",
              "<table border=\"1\" class=\"dataframe\">\n",
              "  <thead>\n",
              "    <tr style=\"text-align: right;\">\n",
              "      <th></th>\n",
              "      <th>genus</th>\n",
              "      <th>name</th>\n",
              "      <th>id</th>\n",
              "      <th>family</th>\n",
              "      <th>order</th>\n",
              "      <th>nutritions.carbohydrates</th>\n",
              "      <th>nutritions.protein</th>\n",
              "      <th>nutritions.fat</th>\n",
              "      <th>nutritions.calories</th>\n",
              "      <th>nutritions.sugar</th>\n",
              "    </tr>\n",
              "  </thead>\n",
              "  <tbody>\n",
              "    <tr>\n",
              "      <th>0</th>\n",
              "      <td>Malus</td>\n",
              "      <td>Apple</td>\n",
              "      <td>6</td>\n",
              "      <td>Rosaceae</td>\n",
              "      <td>Rosales</td>\n",
              "      <td>11.40</td>\n",
              "      <td>0.30</td>\n",
              "      <td>0.40</td>\n",
              "      <td>52</td>\n",
              "      <td>10.30</td>\n",
              "    </tr>\n",
              "    <tr>\n",
              "      <th>1</th>\n",
              "      <td>Prunus</td>\n",
              "      <td>Apricot</td>\n",
              "      <td>35</td>\n",
              "      <td>Rosaceae</td>\n",
              "      <td>Rosales</td>\n",
              "      <td>3.90</td>\n",
              "      <td>0.50</td>\n",
              "      <td>0.10</td>\n",
              "      <td>15</td>\n",
              "      <td>3.20</td>\n",
              "    </tr>\n",
              "    <tr>\n",
              "      <th>2</th>\n",
              "      <td>Musa</td>\n",
              "      <td>Banana</td>\n",
              "      <td>1</td>\n",
              "      <td>Musaceae</td>\n",
              "      <td>Zingiberales</td>\n",
              "      <td>22.00</td>\n",
              "      <td>1.00</td>\n",
              "      <td>0.20</td>\n",
              "      <td>96</td>\n",
              "      <td>17.20</td>\n",
              "    </tr>\n",
              "    <tr>\n",
              "      <th>3</th>\n",
              "      <td>Rubus</td>\n",
              "      <td>Blackberry</td>\n",
              "      <td>64</td>\n",
              "      <td>Rosaceae</td>\n",
              "      <td>Rosales</td>\n",
              "      <td>9.00</td>\n",
              "      <td>1.30</td>\n",
              "      <td>0.40</td>\n",
              "      <td>40</td>\n",
              "      <td>4.50</td>\n",
              "    </tr>\n",
              "    <tr>\n",
              "      <th>4</th>\n",
              "      <td>Fragaria</td>\n",
              "      <td>Blueberry</td>\n",
              "      <td>33</td>\n",
              "      <td>Rosaceae</td>\n",
              "      <td>Rosales</td>\n",
              "      <td>5.50</td>\n",
              "      <td>0.00</td>\n",
              "      <td>0.40</td>\n",
              "      <td>29</td>\n",
              "      <td>5.40</td>\n",
              "    </tr>\n",
              "    <tr>\n",
              "      <th>5</th>\n",
              "      <td>Prunus</td>\n",
              "      <td>Cherry</td>\n",
              "      <td>9</td>\n",
              "      <td>Rosaceae</td>\n",
              "      <td>None</td>\n",
              "      <td>12.00</td>\n",
              "      <td>1.00</td>\n",
              "      <td>0.30</td>\n",
              "      <td>50</td>\n",
              "      <td>8.00</td>\n",
              "    </tr>\n",
              "    <tr>\n",
              "      <th>6</th>\n",
              "      <td>Durio</td>\n",
              "      <td>Durian</td>\n",
              "      <td>60</td>\n",
              "      <td>Malvaceae</td>\n",
              "      <td>Malvales</td>\n",
              "      <td>27.10</td>\n",
              "      <td>1.50</td>\n",
              "      <td>5.30</td>\n",
              "      <td>147</td>\n",
              "      <td>6.75</td>\n",
              "    </tr>\n",
              "    <tr>\n",
              "      <th>7</th>\n",
              "      <td>Ficus</td>\n",
              "      <td>Fig</td>\n",
              "      <td>68</td>\n",
              "      <td>Moraceae</td>\n",
              "      <td>Rosales</td>\n",
              "      <td>19.00</td>\n",
              "      <td>0.80</td>\n",
              "      <td>0.30</td>\n",
              "      <td>74</td>\n",
              "      <td>16.00</td>\n",
              "    </tr>\n",
              "    <tr>\n",
              "      <th>8</th>\n",
              "      <td>Ribes</td>\n",
              "      <td>Gooseberry</td>\n",
              "      <td>69</td>\n",
              "      <td>Grossulariaceae</td>\n",
              "      <td>Saxifragales</td>\n",
              "      <td>10.00</td>\n",
              "      <td>0.90</td>\n",
              "      <td>0.60</td>\n",
              "      <td>44</td>\n",
              "      <td>0.00</td>\n",
              "    </tr>\n",
              "    <tr>\n",
              "      <th>9</th>\n",
              "      <td>Vitis</td>\n",
              "      <td>Grapes</td>\n",
              "      <td>47</td>\n",
              "      <td>Vitaceae</td>\n",
              "      <td>Vitales</td>\n",
              "      <td>18.10</td>\n",
              "      <td>0.72</td>\n",
              "      <td>0.16</td>\n",
              "      <td>69</td>\n",
              "      <td>15.48</td>\n",
              "    </tr>\n",
              "    <tr>\n",
              "      <th>10</th>\n",
              "      <td>Malus</td>\n",
              "      <td>GreenApple</td>\n",
              "      <td>72</td>\n",
              "      <td>Rosaceae</td>\n",
              "      <td>Rosales</td>\n",
              "      <td>3.10</td>\n",
              "      <td>0.40</td>\n",
              "      <td>0.10</td>\n",
              "      <td>21</td>\n",
              "      <td>6.40</td>\n",
              "    </tr>\n",
              "    <tr>\n",
              "      <th>11</th>\n",
              "      <td>Psidium</td>\n",
              "      <td>Guava</td>\n",
              "      <td>37</td>\n",
              "      <td>Myrtaceae</td>\n",
              "      <td>Myrtales</td>\n",
              "      <td>14.00</td>\n",
              "      <td>2.60</td>\n",
              "      <td>1.00</td>\n",
              "      <td>68</td>\n",
              "      <td>9.00</td>\n",
              "    </tr>\n",
              "    <tr>\n",
              "      <th>12</th>\n",
              "      <td>Apteryx</td>\n",
              "      <td>Kiwi</td>\n",
              "      <td>66</td>\n",
              "      <td>Actinidiaceae</td>\n",
              "      <td>Struthioniformes</td>\n",
              "      <td>15.00</td>\n",
              "      <td>1.10</td>\n",
              "      <td>0.50</td>\n",
              "      <td>61</td>\n",
              "      <td>9.00</td>\n",
              "    </tr>\n",
              "    <tr>\n",
              "      <th>13</th>\n",
              "      <td>Citrus</td>\n",
              "      <td>Lemon</td>\n",
              "      <td>26</td>\n",
              "      <td>Rutaceae</td>\n",
              "      <td>Sapindales</td>\n",
              "      <td>9.00</td>\n",
              "      <td>1.10</td>\n",
              "      <td>0.30</td>\n",
              "      <td>29</td>\n",
              "      <td>2.50</td>\n",
              "    </tr>\n",
              "    <tr>\n",
              "      <th>14</th>\n",
              "      <td>Citrus</td>\n",
              "      <td>Lime</td>\n",
              "      <td>44</td>\n",
              "      <td>Rutaceae</td>\n",
              "      <td>Sapindales</td>\n",
              "      <td>8.40</td>\n",
              "      <td>0.30</td>\n",
              "      <td>0.10</td>\n",
              "      <td>25</td>\n",
              "      <td>1.70</td>\n",
              "    </tr>\n",
              "    <tr>\n",
              "      <th>15</th>\n",
              "      <td>Vaccinium</td>\n",
              "      <td>Lingonberry</td>\n",
              "      <td>65</td>\n",
              "      <td>Ericaceae</td>\n",
              "      <td>Ericales</td>\n",
              "      <td>11.30</td>\n",
              "      <td>0.75</td>\n",
              "      <td>0.34</td>\n",
              "      <td>50</td>\n",
              "      <td>5.74</td>\n",
              "    </tr>\n",
              "    <tr>\n",
              "      <th>16</th>\n",
              "      <td>Litchi</td>\n",
              "      <td>Lychee</td>\n",
              "      <td>67</td>\n",
              "      <td>Sapindaceae</td>\n",
              "      <td>Sapindales</td>\n",
              "      <td>17.00</td>\n",
              "      <td>0.80</td>\n",
              "      <td>0.44</td>\n",
              "      <td>66</td>\n",
              "      <td>15.00</td>\n",
              "    </tr>\n",
              "    <tr>\n",
              "      <th>17</th>\n",
              "      <td>Mangifera</td>\n",
              "      <td>Mango</td>\n",
              "      <td>27</td>\n",
              "      <td>Anacardiaceae</td>\n",
              "      <td>Sapindales</td>\n",
              "      <td>15.00</td>\n",
              "      <td>0.82</td>\n",
              "      <td>0.38</td>\n",
              "      <td>60</td>\n",
              "      <td>13.70</td>\n",
              "    </tr>\n",
              "    <tr>\n",
              "      <th>18</th>\n",
              "      <td>Cucumis</td>\n",
              "      <td>Melon</td>\n",
              "      <td>41</td>\n",
              "      <td>Cucurbitaceae</td>\n",
              "      <td>Cucurbitaceae</td>\n",
              "      <td>8.00</td>\n",
              "      <td>0.00</td>\n",
              "      <td>0.00</td>\n",
              "      <td>34</td>\n",
              "      <td>8.00</td>\n",
              "    </tr>\n",
              "    <tr>\n",
              "      <th>19</th>\n",
              "      <td>Citrus</td>\n",
              "      <td>Orange</td>\n",
              "      <td>2</td>\n",
              "      <td>Rutaceae</td>\n",
              "      <td>Sapindales</td>\n",
              "      <td>8.30</td>\n",
              "      <td>1.00</td>\n",
              "      <td>0.20</td>\n",
              "      <td>43</td>\n",
              "      <td>8.20</td>\n",
              "    </tr>\n",
              "    <tr>\n",
              "      <th>20</th>\n",
              "      <td>Carica</td>\n",
              "      <td>Papaya</td>\n",
              "      <td>42</td>\n",
              "      <td>Caricaceae</td>\n",
              "      <td>Caricacea</td>\n",
              "      <td>11.00</td>\n",
              "      <td>0.00</td>\n",
              "      <td>0.40</td>\n",
              "      <td>43</td>\n",
              "      <td>1.00</td>\n",
              "    </tr>\n",
              "    <tr>\n",
              "      <th>21</th>\n",
              "      <td>Passiflora</td>\n",
              "      <td>Passionfruit</td>\n",
              "      <td>70</td>\n",
              "      <td>Passifloraceae</td>\n",
              "      <td>Malpighiales</td>\n",
              "      <td>22.40</td>\n",
              "      <td>2.20</td>\n",
              "      <td>0.70</td>\n",
              "      <td>97</td>\n",
              "      <td>11.20</td>\n",
              "    </tr>\n",
              "    <tr>\n",
              "      <th>22</th>\n",
              "      <td>Pyrus</td>\n",
              "      <td>Pear</td>\n",
              "      <td>4</td>\n",
              "      <td>Rosaceae</td>\n",
              "      <td>Rosales</td>\n",
              "      <td>15.00</td>\n",
              "      <td>0.40</td>\n",
              "      <td>0.10</td>\n",
              "      <td>57</td>\n",
              "      <td>10.00</td>\n",
              "    </tr>\n",
              "    <tr>\n",
              "      <th>23</th>\n",
              "      <td>Diospyros</td>\n",
              "      <td>Persimmon</td>\n",
              "      <td>52</td>\n",
              "      <td>Ebenaceae</td>\n",
              "      <td>Rosales</td>\n",
              "      <td>18.00</td>\n",
              "      <td>0.00</td>\n",
              "      <td>0.00</td>\n",
              "      <td>81</td>\n",
              "      <td>18.00</td>\n",
              "    </tr>\n",
              "    <tr>\n",
              "      <th>24</th>\n",
              "      <td>Ananas</td>\n",
              "      <td>Pineapple</td>\n",
              "      <td>10</td>\n",
              "      <td>Bromeliaceae</td>\n",
              "      <td>Poales</td>\n",
              "      <td>13.12</td>\n",
              "      <td>0.54</td>\n",
              "      <td>0.12</td>\n",
              "      <td>50</td>\n",
              "      <td>9.85</td>\n",
              "    </tr>\n",
              "    <tr>\n",
              "      <th>25</th>\n",
              "      <td>Prunus</td>\n",
              "      <td>Plum</td>\n",
              "      <td>71</td>\n",
              "      <td>Rosaceae</td>\n",
              "      <td>Rosales</td>\n",
              "      <td>11.40</td>\n",
              "      <td>0.70</td>\n",
              "      <td>0.28</td>\n",
              "      <td>46</td>\n",
              "      <td>9.92</td>\n",
              "    </tr>\n",
              "    <tr>\n",
              "      <th>26</th>\n",
              "      <td>Rubus</td>\n",
              "      <td>Raspberry</td>\n",
              "      <td>23</td>\n",
              "      <td>Rosaceae</td>\n",
              "      <td>Rosales</td>\n",
              "      <td>12.00</td>\n",
              "      <td>1.20</td>\n",
              "      <td>0.70</td>\n",
              "      <td>53</td>\n",
              "      <td>4.40</td>\n",
              "    </tr>\n",
              "    <tr>\n",
              "      <th>27</th>\n",
              "      <td>Fragaria</td>\n",
              "      <td>Strawberry</td>\n",
              "      <td>3</td>\n",
              "      <td>Rosaceae</td>\n",
              "      <td>Rosales</td>\n",
              "      <td>5.50</td>\n",
              "      <td>0.80</td>\n",
              "      <td>0.40</td>\n",
              "      <td>29</td>\n",
              "      <td>5.40</td>\n",
              "    </tr>\n",
              "    <tr>\n",
              "      <th>28</th>\n",
              "      <td>Solanum</td>\n",
              "      <td>Tomato</td>\n",
              "      <td>5</td>\n",
              "      <td>Solanaceae</td>\n",
              "      <td>Solanales</td>\n",
              "      <td>3.90</td>\n",
              "      <td>0.90</td>\n",
              "      <td>0.20</td>\n",
              "      <td>74</td>\n",
              "      <td>2.60</td>\n",
              "    </tr>\n",
              "    <tr>\n",
              "      <th>29</th>\n",
              "      <td>Spondias</td>\n",
              "      <td>Umbu</td>\n",
              "      <td>73</td>\n",
              "      <td>Anacardiaceae</td>\n",
              "      <td>0</td>\n",
              "      <td>0.00</td>\n",
              "      <td>0.00</td>\n",
              "      <td>0.00</td>\n",
              "      <td>0</td>\n",
              "      <td>0.00</td>\n",
              "    </tr>\n",
              "    <tr>\n",
              "      <th>30</th>\n",
              "      <td>Citrullus</td>\n",
              "      <td>Watermelon</td>\n",
              "      <td>25</td>\n",
              "      <td>Cucurbitaceae</td>\n",
              "      <td>Cucurbitales</td>\n",
              "      <td>8.00</td>\n",
              "      <td>0.60</td>\n",
              "      <td>0.20</td>\n",
              "      <td>30</td>\n",
              "      <td>6.00</td>\n",
              "    </tr>\n",
              "  </tbody>\n",
              "</table>\n",
              "</div>\n",
              "      <button class=\"colab-df-convert\" onclick=\"convertToInteractive('df-0d5dfeb3-b9d7-45b5-98c5-a24e9af7edde')\"\n",
              "              title=\"Convert this dataframe to an interactive table.\"\n",
              "              style=\"display:none;\">\n",
              "        \n",
              "  <svg xmlns=\"http://www.w3.org/2000/svg\" height=\"24px\"viewBox=\"0 0 24 24\"\n",
              "       width=\"24px\">\n",
              "    <path d=\"M0 0h24v24H0V0z\" fill=\"none\"/>\n",
              "    <path d=\"M18.56 5.44l.94 2.06.94-2.06 2.06-.94-2.06-.94-.94-2.06-.94 2.06-2.06.94zm-11 1L8.5 8.5l.94-2.06 2.06-.94-2.06-.94L8.5 2.5l-.94 2.06-2.06.94zm10 10l.94 2.06.94-2.06 2.06-.94-2.06-.94-.94-2.06-.94 2.06-2.06.94z\"/><path d=\"M17.41 7.96l-1.37-1.37c-.4-.4-.92-.59-1.43-.59-.52 0-1.04.2-1.43.59L10.3 9.45l-7.72 7.72c-.78.78-.78 2.05 0 2.83L4 21.41c.39.39.9.59 1.41.59.51 0 1.02-.2 1.41-.59l7.78-7.78 2.81-2.81c.8-.78.8-2.07 0-2.86zM5.41 20L4 18.59l7.72-7.72 1.47 1.35L5.41 20z\"/>\n",
              "  </svg>\n",
              "      </button>\n",
              "      \n",
              "  <style>\n",
              "    .colab-df-container {\n",
              "      display:flex;\n",
              "      flex-wrap:wrap;\n",
              "      gap: 12px;\n",
              "    }\n",
              "\n",
              "    .colab-df-convert {\n",
              "      background-color: #E8F0FE;\n",
              "      border: none;\n",
              "      border-radius: 50%;\n",
              "      cursor: pointer;\n",
              "      display: none;\n",
              "      fill: #1967D2;\n",
              "      height: 32px;\n",
              "      padding: 0 0 0 0;\n",
              "      width: 32px;\n",
              "    }\n",
              "\n",
              "    .colab-df-convert:hover {\n",
              "      background-color: #E2EBFA;\n",
              "      box-shadow: 0px 1px 2px rgba(60, 64, 67, 0.3), 0px 1px 3px 1px rgba(60, 64, 67, 0.15);\n",
              "      fill: #174EA6;\n",
              "    }\n",
              "\n",
              "    [theme=dark] .colab-df-convert {\n",
              "      background-color: #3B4455;\n",
              "      fill: #D2E3FC;\n",
              "    }\n",
              "\n",
              "    [theme=dark] .colab-df-convert:hover {\n",
              "      background-color: #434B5C;\n",
              "      box-shadow: 0px 1px 3px 1px rgba(0, 0, 0, 0.15);\n",
              "      filter: drop-shadow(0px 1px 2px rgba(0, 0, 0, 0.3));\n",
              "      fill: #FFFFFF;\n",
              "    }\n",
              "  </style>\n",
              "\n",
              "      <script>\n",
              "        const buttonEl =\n",
              "          document.querySelector('#df-0d5dfeb3-b9d7-45b5-98c5-a24e9af7edde button.colab-df-convert');\n",
              "        buttonEl.style.display =\n",
              "          google.colab.kernel.accessAllowed ? 'block' : 'none';\n",
              "\n",
              "        async function convertToInteractive(key) {\n",
              "          const element = document.querySelector('#df-0d5dfeb3-b9d7-45b5-98c5-a24e9af7edde');\n",
              "          const dataTable =\n",
              "            await google.colab.kernel.invokeFunction('convertToInteractive',\n",
              "                                                     [key], {});\n",
              "          if (!dataTable) return;\n",
              "\n",
              "          const docLinkHtml = 'Like what you see? Visit the ' +\n",
              "            '<a target=\"_blank\" href=https://colab.research.google.com/notebooks/data_table.ipynb>data table notebook</a>'\n",
              "            + ' to learn more about interactive tables.';\n",
              "          element.innerHTML = '';\n",
              "          dataTable['output_type'] = 'display_data';\n",
              "          await google.colab.output.renderOutput(dataTable, element);\n",
              "          const docLink = document.createElement('div');\n",
              "          docLink.innerHTML = docLinkHtml;\n",
              "          element.appendChild(docLink);\n",
              "        }\n",
              "      </script>\n",
              "    </div>\n",
              "  </div>\n",
              "  "
            ]
          },
          "metadata": {},
          "execution_count": 67
        }
      ]
    },
    {
      "cell_type": "code",
      "source": [
        "cherry = df2.loc[df2[\"name\"] == 'Cherry']\n",
        "(cherry.iloc[0]['family']) , (cherry.iloc[0]['genus'])"
      ],
      "metadata": {
        "colab": {
          "base_uri": "https://localhost:8080/"
        },
        "id": "g_uleDZqqExx",
        "outputId": "e0640213-30dc-4b26-9ad9-05c357fe39bb"
      },
      "execution_count": null,
      "outputs": [
        {
          "output_type": "execute_result",
          "data": {
            "text/plain": [
              "('Rosaceae', 'Prunus')"
            ]
          },
          "metadata": {},
          "execution_count": 68
        }
      ]
    },
    {
      "cell_type": "code",
      "source": [
        "banana = df2.loc[df2['name'] == 'Banana']\n",
        "banana['nutritions.calories']"
      ],
      "metadata": {
        "colab": {
          "base_uri": "https://localhost:8080/"
        },
        "id": "T6EVCu4mqJGp",
        "outputId": "9f2f2393-e720-478c-8938-5d93f1021249"
      },
      "execution_count": null,
      "outputs": [
        {
          "output_type": "execute_result",
          "data": {
            "text/plain": [
              "2    96\n",
              "Name: nutritions.calories, dtype: int64"
            ]
          },
          "metadata": {},
          "execution_count": 73
        }
      ]
    },
    {
      "cell_type": "code",
      "source": [
        "dogs = requests.get(\"https://dog.ceo/api/breeds/list/all\")\n",
        "dogs.text"
      ],
      "metadata": {
        "colab": {
          "base_uri": "https://localhost:8080/",
          "height": 109
        },
        "id": "6r77HcBJqlXh",
        "outputId": "ea3a14ca-aaca-4f6b-a798-636b656043bb"
      },
      "execution_count": null,
      "outputs": [
        {
          "output_type": "execute_result",
          "data": {
            "text/plain": [
              "'{\"message\":{\"affenpinscher\":[],\"african\":[],\"airedale\":[],\"akita\":[],\"appenzeller\":[],\"australian\":[\"shepherd\"],\"basenji\":[],\"beagle\":[],\"bluetick\":[],\"borzoi\":[],\"bouvier\":[],\"boxer\":[],\"brabancon\":[],\"briard\":[],\"buhund\":[\"norwegian\"],\"bulldog\":[\"boston\",\"english\",\"french\"],\"bullterrier\":[\"staffordshire\"],\"cattledog\":[\"australian\"],\"chihuahua\":[],\"chow\":[],\"clumber\":[],\"cockapoo\":[],\"collie\":[\"border\"],\"coonhound\":[],\"corgi\":[\"cardigan\"],\"cotondetulear\":[],\"dachshund\":[],\"dalmatian\":[],\"dane\":[\"great\"],\"deerhound\":[\"scottish\"],\"dhole\":[],\"dingo\":[],\"doberman\":[],\"elkhound\":[\"norwegian\"],\"entlebucher\":[],\"eskimo\":[],\"finnish\":[\"lapphund\"],\"frise\":[\"bichon\"],\"germanshepherd\":[],\"greyhound\":[\"italian\"],\"groenendael\":[],\"havanese\":[],\"hound\":[\"afghan\",\"basset\",\"blood\",\"english\",\"ibizan\",\"plott\",\"walker\"],\"husky\":[],\"keeshond\":[],\"kelpie\":[],\"komondor\":[],\"kuvasz\":[],\"labradoodle\":[],\"labrador\":[],\"leonberg\":[],\"lhasa\":[],\"malamute\":[],\"malinois\":[],\"maltese\":[],\"mastiff\":[\"bull\",\"english\",\"tibetan\"],\"mexicanhairless\":[],\"mix\":[],\"mountain\":[\"bernese\",\"swiss\"],\"newfoundland\":[],\"otterhound\":[],\"ovcharka\":[\"caucasian\"],\"papillon\":[],\"pekinese\":[],\"pembroke\":[],\"pinscher\":[\"miniature\"],\"pitbull\":[],\"pointer\":[\"german\",\"germanlonghair\"],\"pomeranian\":[],\"poodle\":[\"medium\",\"miniature\",\"standard\",\"toy\"],\"pug\":[],\"puggle\":[],\"pyrenees\":[],\"redbone\":[],\"retriever\":[\"chesapeake\",\"curly\",\"flatcoated\",\"golden\"],\"ridgeback\":[\"rhodesian\"],\"rottweiler\":[],\"saluki\":[],\"samoyed\":[],\"schipperke\":[],\"schnauzer\":[\"giant\",\"miniature\"],\"setter\":[\"english\",\"gordon\",\"irish\"],\"sharpei\":[],\"sheepdog\":[\"english\",\"shetland\"],\"shiba\":[],\"shihtzu\":[],\"spaniel\":[\"blenheim\",\"brittany\",\"cocker\",\"irish\",\"japanese\",\"sussex\",\"welsh\"],\"springer\":[\"english\"],\"stbernard\":[],\"terrier\":[\"american\",\"australian\",\"bedlington\",\"border\",\"cairn\",\"dandie\",\"fox\",\"irish\",\"kerryblue\",\"lakeland\",\"norfolk\",\"norwich\",\"patterdale\",\"russell\",\"scottish\",\"sealyham\",\"silky\",\"tibetan\",\"toy\",\"welsh\",\"westhighland\",\"wheaten\",\"yorkshire\"],\"tervuren\":[],\"vizsla\":[],\"waterdog\":[\"spanish\"],\"weimaraner\":[],\"whippet\":[],\"wolfhound\":[\"irish\"]},\"status\":\"success\"}'"
            ],
            "application/vnd.google.colaboratory.intrinsic+json": {
              "type": "string"
            }
          },
          "metadata": {},
          "execution_count": 80
        }
      ]
    },
    {
      "cell_type": "code",
      "source": [
        "dogs_dict = json.loads(dogs.text)\n",
        "dogs_dict"
      ],
      "metadata": {
        "colab": {
          "base_uri": "https://localhost:8080/"
        },
        "id": "EEnVViQErfdM",
        "outputId": "dbd82447-1f42-4847-8437-28640f744a54"
      },
      "execution_count": null,
      "outputs": [
        {
          "output_type": "execute_result",
          "data": {
            "text/plain": [
              "{'message': {'affenpinscher': [],\n",
              "  'african': [],\n",
              "  'airedale': [],\n",
              "  'akita': [],\n",
              "  'appenzeller': [],\n",
              "  'australian': ['shepherd'],\n",
              "  'basenji': [],\n",
              "  'beagle': [],\n",
              "  'bluetick': [],\n",
              "  'borzoi': [],\n",
              "  'bouvier': [],\n",
              "  'boxer': [],\n",
              "  'brabancon': [],\n",
              "  'briard': [],\n",
              "  'buhund': ['norwegian'],\n",
              "  'bulldog': ['boston', 'english', 'french'],\n",
              "  'bullterrier': ['staffordshire'],\n",
              "  'cattledog': ['australian'],\n",
              "  'chihuahua': [],\n",
              "  'chow': [],\n",
              "  'clumber': [],\n",
              "  'cockapoo': [],\n",
              "  'collie': ['border'],\n",
              "  'coonhound': [],\n",
              "  'corgi': ['cardigan'],\n",
              "  'cotondetulear': [],\n",
              "  'dachshund': [],\n",
              "  'dalmatian': [],\n",
              "  'dane': ['great'],\n",
              "  'deerhound': ['scottish'],\n",
              "  'dhole': [],\n",
              "  'dingo': [],\n",
              "  'doberman': [],\n",
              "  'elkhound': ['norwegian'],\n",
              "  'entlebucher': [],\n",
              "  'eskimo': [],\n",
              "  'finnish': ['lapphund'],\n",
              "  'frise': ['bichon'],\n",
              "  'germanshepherd': [],\n",
              "  'greyhound': ['italian'],\n",
              "  'groenendael': [],\n",
              "  'havanese': [],\n",
              "  'hound': ['afghan',\n",
              "   'basset',\n",
              "   'blood',\n",
              "   'english',\n",
              "   'ibizan',\n",
              "   'plott',\n",
              "   'walker'],\n",
              "  'husky': [],\n",
              "  'keeshond': [],\n",
              "  'kelpie': [],\n",
              "  'komondor': [],\n",
              "  'kuvasz': [],\n",
              "  'labradoodle': [],\n",
              "  'labrador': [],\n",
              "  'leonberg': [],\n",
              "  'lhasa': [],\n",
              "  'malamute': [],\n",
              "  'malinois': [],\n",
              "  'maltese': [],\n",
              "  'mastiff': ['bull', 'english', 'tibetan'],\n",
              "  'mexicanhairless': [],\n",
              "  'mix': [],\n",
              "  'mountain': ['bernese', 'swiss'],\n",
              "  'newfoundland': [],\n",
              "  'otterhound': [],\n",
              "  'ovcharka': ['caucasian'],\n",
              "  'papillon': [],\n",
              "  'pekinese': [],\n",
              "  'pembroke': [],\n",
              "  'pinscher': ['miniature'],\n",
              "  'pitbull': [],\n",
              "  'pointer': ['german', 'germanlonghair'],\n",
              "  'pomeranian': [],\n",
              "  'poodle': ['medium', 'miniature', 'standard', 'toy'],\n",
              "  'pug': [],\n",
              "  'puggle': [],\n",
              "  'pyrenees': [],\n",
              "  'redbone': [],\n",
              "  'retriever': ['chesapeake', 'curly', 'flatcoated', 'golden'],\n",
              "  'ridgeback': ['rhodesian'],\n",
              "  'rottweiler': [],\n",
              "  'saluki': [],\n",
              "  'samoyed': [],\n",
              "  'schipperke': [],\n",
              "  'schnauzer': ['giant', 'miniature'],\n",
              "  'setter': ['english', 'gordon', 'irish'],\n",
              "  'sharpei': [],\n",
              "  'sheepdog': ['english', 'shetland'],\n",
              "  'shiba': [],\n",
              "  'shihtzu': [],\n",
              "  'spaniel': ['blenheim',\n",
              "   'brittany',\n",
              "   'cocker',\n",
              "   'irish',\n",
              "   'japanese',\n",
              "   'sussex',\n",
              "   'welsh'],\n",
              "  'springer': ['english'],\n",
              "  'stbernard': [],\n",
              "  'terrier': ['american',\n",
              "   'australian',\n",
              "   'bedlington',\n",
              "   'border',\n",
              "   'cairn',\n",
              "   'dandie',\n",
              "   'fox',\n",
              "   'irish',\n",
              "   'kerryblue',\n",
              "   'lakeland',\n",
              "   'norfolk',\n",
              "   'norwich',\n",
              "   'patterdale',\n",
              "   'russell',\n",
              "   'scottish',\n",
              "   'sealyham',\n",
              "   'silky',\n",
              "   'tibetan',\n",
              "   'toy',\n",
              "   'welsh',\n",
              "   'westhighland',\n",
              "   'wheaten',\n",
              "   'yorkshire'],\n",
              "  'tervuren': [],\n",
              "  'vizsla': [],\n",
              "  'waterdog': ['spanish'],\n",
              "  'weimaraner': [],\n",
              "  'whippet': [],\n",
              "  'wolfhound': ['irish']},\n",
              " 'status': 'success'}"
            ]
          },
          "metadata": {},
          "execution_count": 82
        }
      ]
    },
    {
      "cell_type": "code",
      "source": [
        "dogs_df = pd.DataFrame(dogs_dict)\n",
        "dogs_df"
      ],
      "metadata": {
        "colab": {
          "base_uri": "https://localhost:8080/",
          "height": 424
        },
        "id": "471Wcp2NrsC5",
        "outputId": "a67035db-1a82-41df-a168-b2e8de68cc48"
      },
      "execution_count": null,
      "outputs": [
        {
          "output_type": "execute_result",
          "data": {
            "text/plain": [
              "                 message   status\n",
              "affenpinscher         []  success\n",
              "african               []  success\n",
              "airedale              []  success\n",
              "akita                 []  success\n",
              "appenzeller           []  success\n",
              "...                  ...      ...\n",
              "vizsla                []  success\n",
              "waterdog       [spanish]  success\n",
              "weimaraner            []  success\n",
              "whippet               []  success\n",
              "wolfhound        [irish]  success\n",
              "\n",
              "[96 rows x 2 columns]"
            ],
            "text/html": [
              "\n",
              "  <div id=\"df-71cfe5f3-c021-42d4-81b9-6f76cb1c5ce9\">\n",
              "    <div class=\"colab-df-container\">\n",
              "      <div>\n",
              "<style scoped>\n",
              "    .dataframe tbody tr th:only-of-type {\n",
              "        vertical-align: middle;\n",
              "    }\n",
              "\n",
              "    .dataframe tbody tr th {\n",
              "        vertical-align: top;\n",
              "    }\n",
              "\n",
              "    .dataframe thead th {\n",
              "        text-align: right;\n",
              "    }\n",
              "</style>\n",
              "<table border=\"1\" class=\"dataframe\">\n",
              "  <thead>\n",
              "    <tr style=\"text-align: right;\">\n",
              "      <th></th>\n",
              "      <th>message</th>\n",
              "      <th>status</th>\n",
              "    </tr>\n",
              "  </thead>\n",
              "  <tbody>\n",
              "    <tr>\n",
              "      <th>affenpinscher</th>\n",
              "      <td>[]</td>\n",
              "      <td>success</td>\n",
              "    </tr>\n",
              "    <tr>\n",
              "      <th>african</th>\n",
              "      <td>[]</td>\n",
              "      <td>success</td>\n",
              "    </tr>\n",
              "    <tr>\n",
              "      <th>airedale</th>\n",
              "      <td>[]</td>\n",
              "      <td>success</td>\n",
              "    </tr>\n",
              "    <tr>\n",
              "      <th>akita</th>\n",
              "      <td>[]</td>\n",
              "      <td>success</td>\n",
              "    </tr>\n",
              "    <tr>\n",
              "      <th>appenzeller</th>\n",
              "      <td>[]</td>\n",
              "      <td>success</td>\n",
              "    </tr>\n",
              "    <tr>\n",
              "      <th>...</th>\n",
              "      <td>...</td>\n",
              "      <td>...</td>\n",
              "    </tr>\n",
              "    <tr>\n",
              "      <th>vizsla</th>\n",
              "      <td>[]</td>\n",
              "      <td>success</td>\n",
              "    </tr>\n",
              "    <tr>\n",
              "      <th>waterdog</th>\n",
              "      <td>[spanish]</td>\n",
              "      <td>success</td>\n",
              "    </tr>\n",
              "    <tr>\n",
              "      <th>weimaraner</th>\n",
              "      <td>[]</td>\n",
              "      <td>success</td>\n",
              "    </tr>\n",
              "    <tr>\n",
              "      <th>whippet</th>\n",
              "      <td>[]</td>\n",
              "      <td>success</td>\n",
              "    </tr>\n",
              "    <tr>\n",
              "      <th>wolfhound</th>\n",
              "      <td>[irish]</td>\n",
              "      <td>success</td>\n",
              "    </tr>\n",
              "  </tbody>\n",
              "</table>\n",
              "<p>96 rows × 2 columns</p>\n",
              "</div>\n",
              "      <button class=\"colab-df-convert\" onclick=\"convertToInteractive('df-71cfe5f3-c021-42d4-81b9-6f76cb1c5ce9')\"\n",
              "              title=\"Convert this dataframe to an interactive table.\"\n",
              "              style=\"display:none;\">\n",
              "        \n",
              "  <svg xmlns=\"http://www.w3.org/2000/svg\" height=\"24px\"viewBox=\"0 0 24 24\"\n",
              "       width=\"24px\">\n",
              "    <path d=\"M0 0h24v24H0V0z\" fill=\"none\"/>\n",
              "    <path d=\"M18.56 5.44l.94 2.06.94-2.06 2.06-.94-2.06-.94-.94-2.06-.94 2.06-2.06.94zm-11 1L8.5 8.5l.94-2.06 2.06-.94-2.06-.94L8.5 2.5l-.94 2.06-2.06.94zm10 10l.94 2.06.94-2.06 2.06-.94-2.06-.94-.94-2.06-.94 2.06-2.06.94z\"/><path d=\"M17.41 7.96l-1.37-1.37c-.4-.4-.92-.59-1.43-.59-.52 0-1.04.2-1.43.59L10.3 9.45l-7.72 7.72c-.78.78-.78 2.05 0 2.83L4 21.41c.39.39.9.59 1.41.59.51 0 1.02-.2 1.41-.59l7.78-7.78 2.81-2.81c.8-.78.8-2.07 0-2.86zM5.41 20L4 18.59l7.72-7.72 1.47 1.35L5.41 20z\"/>\n",
              "  </svg>\n",
              "      </button>\n",
              "      \n",
              "  <style>\n",
              "    .colab-df-container {\n",
              "      display:flex;\n",
              "      flex-wrap:wrap;\n",
              "      gap: 12px;\n",
              "    }\n",
              "\n",
              "    .colab-df-convert {\n",
              "      background-color: #E8F0FE;\n",
              "      border: none;\n",
              "      border-radius: 50%;\n",
              "      cursor: pointer;\n",
              "      display: none;\n",
              "      fill: #1967D2;\n",
              "      height: 32px;\n",
              "      padding: 0 0 0 0;\n",
              "      width: 32px;\n",
              "    }\n",
              "\n",
              "    .colab-df-convert:hover {\n",
              "      background-color: #E2EBFA;\n",
              "      box-shadow: 0px 1px 2px rgba(60, 64, 67, 0.3), 0px 1px 3px 1px rgba(60, 64, 67, 0.15);\n",
              "      fill: #174EA6;\n",
              "    }\n",
              "\n",
              "    [theme=dark] .colab-df-convert {\n",
              "      background-color: #3B4455;\n",
              "      fill: #D2E3FC;\n",
              "    }\n",
              "\n",
              "    [theme=dark] .colab-df-convert:hover {\n",
              "      background-color: #434B5C;\n",
              "      box-shadow: 0px 1px 3px 1px rgba(0, 0, 0, 0.15);\n",
              "      filter: drop-shadow(0px 1px 2px rgba(0, 0, 0, 0.3));\n",
              "      fill: #FFFFFF;\n",
              "    }\n",
              "  </style>\n",
              "\n",
              "      <script>\n",
              "        const buttonEl =\n",
              "          document.querySelector('#df-71cfe5f3-c021-42d4-81b9-6f76cb1c5ce9 button.colab-df-convert');\n",
              "        buttonEl.style.display =\n",
              "          google.colab.kernel.accessAllowed ? 'block' : 'none';\n",
              "\n",
              "        async function convertToInteractive(key) {\n",
              "          const element = document.querySelector('#df-71cfe5f3-c021-42d4-81b9-6f76cb1c5ce9');\n",
              "          const dataTable =\n",
              "            await google.colab.kernel.invokeFunction('convertToInteractive',\n",
              "                                                     [key], {});\n",
              "          if (!dataTable) return;\n",
              "\n",
              "          const docLinkHtml = 'Like what you see? Visit the ' +\n",
              "            '<a target=\"_blank\" href=https://colab.research.google.com/notebooks/data_table.ipynb>data table notebook</a>'\n",
              "            + ' to learn more about interactive tables.';\n",
              "          element.innerHTML = '';\n",
              "          dataTable['output_type'] = 'display_data';\n",
              "          await google.colab.output.renderOutput(dataTable, element);\n",
              "          const docLink = document.createElement('div');\n",
              "          docLink.innerHTML = docLinkHtml;\n",
              "          element.appendChild(docLink);\n",
              "        }\n",
              "      </script>\n",
              "    </div>\n",
              "  </div>\n",
              "  "
            ]
          },
          "metadata": {},
          "execution_count": 84
        }
      ]
    }
  ]
}
