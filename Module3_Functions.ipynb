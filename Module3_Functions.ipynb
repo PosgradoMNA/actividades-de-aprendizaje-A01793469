{
 "cells": [
  {
   "cell_type": "code",
   "execution_count": 2,
   "id": "ce6c0767",
   "metadata": {},
   "outputs": [
    {
     "name": "stdout",
     "output_type": "stream",
     "text": [
      "1.5\n"
     ]
    }
   ],
   "source": [
    "def division(a, b):\n",
    "    return a/b\n",
    "\n",
    "print(division(3, 2))"
   ]
  },
  {
   "cell_type": "code",
   "execution_count": 3,
   "id": "289fa5da",
   "metadata": {},
   "outputs": [
    {
     "name": "stdout",
     "output_type": "stream",
     "text": [
      "8\n",
      "17\n"
     ]
    }
   ],
   "source": [
    "def con(a, b):\n",
    "    return(a + b)\n",
    "\n",
    "print(con(1,7))\n",
    "print(con(\"1\", \"7\"))"
   ]
  },
  {
   "cell_type": "code",
   "execution_count": 4,
   "id": "0e38f43d",
   "metadata": {},
   "outputs": [
    {
     "name": "stdout",
     "output_type": "stream",
     "text": [
      "['a', 2, 4.5, 'D', '2.7', 9.3, 'A', 5]\n",
      "('a', 2, 4.5, 'D', '2.7', 9.3, 'A', 5)\n"
     ]
    }
   ],
   "source": [
    "A_list = ['a', 2, 4.5, 'D']\n",
    "B_list = ['2.7', 9.3, 'A', 5]\n",
    "A_tuple = ('a', 2, 4.5, 'D')\n",
    "B_tuple = ('2.7', 9.3, 'A', 5)\n",
    "print(con(A_list, B_list))\n",
    "print(con(A_tuple, B_tuple))"
   ]
  },
  {
   "cell_type": "code",
   "execution_count": null,
   "id": "4c5ee8fd",
   "metadata": {},
   "outputs": [],
   "source": []
  }
 ],
 "metadata": {
  "kernelspec": {
   "display_name": "Python 3 (ipykernel)",
   "language": "python",
   "name": "python3"
  },
  "language_info": {
   "codemirror_mode": {
    "name": "ipython",
    "version": 3
   },
   "file_extension": ".py",
   "mimetype": "text/x-python",
   "name": "python",
   "nbconvert_exporter": "python",
   "pygments_lexer": "ipython3",
   "version": "3.9.7"
  }
 },
 "nbformat": 4,
 "nbformat_minor": 5
}
